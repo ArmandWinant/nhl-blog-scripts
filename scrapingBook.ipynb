{
 "cells": [
  {
   "cell_type": "code",
   "execution_count": 9,
   "id": "67da6b48",
   "metadata": {},
   "outputs": [
    {
     "name": "stdout",
     "output_type": "stream",
     "text": [
      "The autoreload extension is already loaded. To reload it, use:\n",
      "  %reload_ext autoreload\n"
     ]
    }
   ],
   "source": [
    "%load_ext autoreload\n",
    "%autoreload 2"
   ]
  },
  {
   "cell_type": "code",
   "execution_count": 10,
   "id": "01c17240",
   "metadata": {},
   "outputs": [],
   "source": [
    "import time\n",
    "from summaryScraper import SummaryScraper\n",
    "from powerplayScraper import PowerplayScraper\n",
    "from shotAttemptsScraper import ShotAttemptsScraper\n",
    "from goalsByPeriodScraper import GoalsByPeriodScraper\n",
    "from selenium.common.exceptions import WebDriverException"
   ]
  },
  {
   "cell_type": "code",
   "execution_count": 11,
   "id": "7942c690",
   "metadata": {},
   "outputs": [],
   "source": [
    "scraper = SummaryScraper()"
   ]
  },
  {
   "cell_type": "code",
   "execution_count": null,
   "id": "eceedd6c",
   "metadata": {},
   "outputs": [
    {
     "name": "stdout",
     "output_type": "stream",
     "text": [
      "Loaded 164 records\n",
      "Loaded 172 records\n",
      "Loaded 166 records\n",
      "Loaded 172 records\n",
      "Loaded 180 records\n",
      "Loaded 178 records\n",
      "Loaded 178 records\n",
      "Loaded 178 records\n",
      "Loaded 166 records\n",
      "Loaded 162 records\n",
      "Loaded 170 records\n",
      "Loaded 174 records\n",
      "Loaded 178 records\n",
      "Loaded 178 records\n",
      "Loaded 172 records\n"
     ]
    }
   ],
   "source": [
    "for i in range(1997, 2022):\n",
    "    scraper.etl(start=i, playoffs=True)\n",
    "    time.sleep(60)"
   ]
  },
  {
   "cell_type": "code",
   "execution_count": null,
   "id": "c6cb1c96",
   "metadata": {},
   "outputs": [],
   "source": [
    "scraper.close_driver()\n",
    "scraper.close_db_connect()"
   ]
  }
 ],
 "metadata": {
  "kernelspec": {
   "display_name": "Python 3 (ipykernel)",
   "language": "python",
   "name": "python3"
  },
  "language_info": {
   "codemirror_mode": {
    "name": "ipython",
    "version": 3
   },
   "file_extension": ".py",
   "mimetype": "text/x-python",
   "name": "python",
   "nbconvert_exporter": "python",
   "pygments_lexer": "ipython3",
   "version": "3.9.12"
  }
 },
 "nbformat": 4,
 "nbformat_minor": 5
}
