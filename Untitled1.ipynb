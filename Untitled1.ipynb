{
 "cells": [
  {
   "cell_type": "code",
   "execution_count": 94,
   "id": "42398627",
   "metadata": {},
   "outputs": [],
   "source": [
    "from selenium import webdriver\n",
    "from selenium.webdriver.chrome.service import Service\n",
    "from selenium.webdriver.chrome.options import Options\n",
    "from datetime import datetime\n",
    "from bs4 import BeautifulSoup\n",
    "from selenium.webdriver.common.by import By\n",
    "from selenium.webdriver.support.ui import WebDriverWait\n",
    "from selenium.webdriver.support import expected_conditions as EC\n",
    "from selenium.common.exceptions import TimeoutException"
   ]
  },
  {
   "cell_type": "code",
   "execution_count": 33,
   "id": "d8bba025",
   "metadata": {},
   "outputs": [],
   "source": [
    "driver_executable = \"/Users/bastienwinant/Desktop/SeleniumDrivers/chromedriver\""
   ]
  },
  {
   "cell_type": "code",
   "execution_count": 34,
   "id": "7413c627",
   "metadata": {},
   "outputs": [],
   "source": [
    "chrome_service = Service(driver_executable)"
   ]
  },
  {
   "cell_type": "code",
   "execution_count": 40,
   "id": "ef08b523",
   "metadata": {},
   "outputs": [],
   "source": [
    "options = webdriver.ChromeOptions()\n",
    "options.add_argument('--ignore-certificate-errors')\n",
    "options.add_argument('--incognito')\n",
    "options.add_argument('--headless')"
   ]
  },
  {
   "cell_type": "code",
   "execution_count": 41,
   "id": "d532bf63",
   "metadata": {},
   "outputs": [],
   "source": [
    "# driver = webdriver.Chrome(service=chrome_service, options=op)\n",
    "# driver.close()\n",
    "driver = webdriver.Chrome(service=chrome_service, options=options)"
   ]
  },
  {
   "cell_type": "code",
   "execution_count": 42,
   "id": "17d2ccc5",
   "metadata": {},
   "outputs": [],
   "source": [
    "driver.close()"
   ]
  },
  {
   "cell_type": "code",
   "execution_count": 43,
   "id": "931903c5",
   "metadata": {},
   "outputs": [],
   "source": [
    "def open_driver():\n",
    "    driver_executable = \"/Users/bastienwinant/Desktop/SeleniumDrivers/chromedriver\"\n",
    "    \n",
    "    chrome_service = Service(driver_executable)\n",
    "    \n",
    "    options = webdriver.ChromeOptions()\n",
    "    options.add_argument('--ignore-certificate-errors')\n",
    "    options.add_argument('--incognito')\n",
    "    options.add_argument('--headless')\n",
    "    \n",
    "    driver = webdriver.Chrome(service=chrome_service, options=options)\n",
    "    \n",
    "    return driver"
   ]
  },
  {
   "cell_type": "code",
   "execution_count": 44,
   "id": "faf466bb",
   "metadata": {},
   "outputs": [],
   "source": [
    "def close_driver(driver):\n",
    "    driver.close()"
   ]
  },
  {
   "cell_type": "code",
   "execution_count": 217,
   "id": "75bde4e9",
   "metadata": {},
   "outputs": [],
   "source": [
    "def wait_for_element(source, search_by, target, timeout=10, unique_element=False):\n",
    "    try:\n",
    "        if unique_element:\n",
    "            elements = WebDriverWait(source, timeout=timeout).until(lambda d: d.find_element(search_by, target))\n",
    "        else:\n",
    "            elements = WebDriverWait(source, timeout=timeout).until(lambda d: d.find_elements(search_by, target))\n",
    "        \n",
    "    except TimeoutException:\n",
    "        print(\"could not find element with target: \", target)\n",
    "        elements = []\n",
    "    \n",
    "    return elements"
   ]
  },
  {
   "cell_type": "code",
   "execution_count": 218,
   "id": "8faf0717",
   "metadata": {},
   "outputs": [],
   "source": [
    "def download(url, driver):\n",
    "    driver.get(url)\n",
    "    root_element = wait_for_element(source=driver, search_by=By.ID, target=\"root\", unique_element=True)\n",
    "    data_table = wait_for_element(source=root_element, search_by=By.CLASS_NAME, target=\"rt-table\", unique_element=True)\n",
    "    \n",
    "    table_headers = get_table_columns(data_table)\n",
    "    table_data = get_table_rows(data_table, table_headers)\n",
    "    \n",
    "    return table_headers, table_data"
   ]
  },
  {
   "cell_type": "code",
   "execution_count": 219,
   "id": "38a0072d",
   "metadata": {},
   "outputs": [],
   "source": [
    "def get_table_columns(source):\n",
    "    table_headers = wait_for_element(source=source, search_by=By.CLASS_NAME, target=\"tableHeaderDiv\", unique_element=True)\n",
    "    headers = wait_for_element(source=table_headers, search_by=By.CLASS_NAME, target=\"rt-th\")\n",
    "    header_names = [header.text for header in headers]\n",
    "    \n",
    "    return header_names"
   ]
  },
  {
   "cell_type": "code",
   "execution_count": 220,
   "id": "0f204ec2",
   "metadata": {},
   "outputs": [],
   "source": [
    "def get_table_rows(source, headers):\n",
    "    table_rows = wait_for_element(source=source, search_by=By.CLASS_NAME, target=\"rt-tbody\", unique_element=True)\n",
    "    rows = wait_for_element(source=table_rows, search_by=By.CLASS_NAME, target=\"rt-tr\")\n",
    "    table_data = []\n",
    "    \n",
    "    for row in rows:\n",
    "        cells = wait_for_element(source=row, search_by=By.CLASS_NAME, target=\"rt-td\")\n",
    "        row_values = [cell.text for cell in cells]\n",
    "        \n",
    "        table_data.append(list(zip(headers, row_values)))\n",
    "    \n",
    "    return table_data"
   ]
  },
  {
   "cell_type": "code",
   "execution_count": 203,
   "id": "0cf07319",
   "metadata": {},
   "outputs": [],
   "source": [
    "def game_date_url(date):\n",
    "    now = datetime.now()\n",
    "    date_str = date.strftime(\"%m/%d/%Y\")\n",
    "    \n",
    "    url = f\"https://www.wnba.com/scores/#/{date_str}\"\n",
    "    return url"
   ]
  },
  {
   "cell_type": "code",
   "execution_count": 204,
   "id": "7d3aaf9a",
   "metadata": {},
   "outputs": [],
   "source": [
    "date1 = datetime.strptime('07/10/2016', '%m/%d/%Y')"
   ]
  },
  {
   "cell_type": "code",
   "execution_count": 221,
   "id": "5b2aada2",
   "metadata": {},
   "outputs": [],
   "source": [
    "chrome_driver = open_driver()\n",
    "games_url = game_date_url(date1)\n",
    "header, data = download(\"https://www.nhl.com/stats/teams?aggregate=0&reportType=season&seasonFrom=20212022&seasonTo=20212022&gameType=2&filter=gamesPlayed,gte,1&sort=points,wins&page=0&pageSize=50\", chrome_driver)\n",
    "close_driver(chrome_driver)"
   ]
  },
  {
   "cell_type": "code",
   "execution_count": null,
   "id": "8519e78b",
   "metadata": {},
   "outputs": [],
   "source": [
    "# print(elements.text)"
   ]
  },
  {
   "cell_type": "code",
   "execution_count": 223,
   "id": "1f663e35",
   "metadata": {},
   "outputs": [],
   "source": [
    "data = [list(elem) for elem in data]"
   ]
  },
  {
   "cell_type": "code",
   "execution_count": 226,
   "id": "050895c4",
   "metadata": {},
   "outputs": [
    {
     "data": {
      "text/plain": [
       "['i',\n",
       " 'Team',\n",
       " 'Season',\n",
       " 'GP',\n",
       " 'W',\n",
       " 'L',\n",
       " 'T',\n",
       " 'OT',\n",
       " 'P',\n",
       " 'P%',\n",
       " 'RW',\n",
       " 'ROW',\n",
       " 'S/O Win',\n",
       " 'GF',\n",
       " 'GA',\n",
       " 'GF/GP',\n",
       " 'GA/GP',\n",
       " 'PP%',\n",
       " 'PK%',\n",
       " 'Net PP%',\n",
       " 'Net PK%',\n",
       " 'Shots/GP',\n",
       " 'SA/GP',\n",
       " 'FOW%']"
      ]
     },
     "execution_count": 226,
     "metadata": {},
     "output_type": "execute_result"
    }
   ],
   "source": [
    "header"
   ]
  },
  {
   "cell_type": "code",
   "execution_count": null,
   "id": "f346d2dc",
   "metadata": {},
   "outputs": [],
   "source": []
  }
 ],
 "metadata": {
  "kernelspec": {
   "display_name": "Python 3 (ipykernel)",
   "language": "python",
   "name": "python3"
  },
  "language_info": {
   "codemirror_mode": {
    "name": "ipython",
    "version": 3
   },
   "file_extension": ".py",
   "mimetype": "text/x-python",
   "name": "python",
   "nbconvert_exporter": "python",
   "pygments_lexer": "ipython3",
   "version": "3.9.10"
  }
 },
 "nbformat": 4,
 "nbformat_minor": 5
}
