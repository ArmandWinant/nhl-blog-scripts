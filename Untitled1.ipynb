{
 "cells": [
  {
   "cell_type": "code",
   "execution_count": 94,
   "id": "3e6e1966",
   "metadata": {},
   "outputs": [],
   "source": [
    "from selenium import webdriver\n",
    "from selenium.webdriver.chrome.service import Service\n",
    "from selenium.webdriver.chrome.options import Options\n",
    "from datetime import datetime\n",
    "from bs4 import BeautifulSoup\n",
    "from selenium.webdriver.common.by import By\n",
    "from selenium.webdriver.support.ui import WebDriverWait\n",
    "from selenium.webdriver.support import expected_conditions as EC\n",
    "from selenium.common.exceptions import TimeoutException"
   ]
  },
  {
   "cell_type": "code",
   "execution_count": 33,
   "id": "2309f889",
   "metadata": {},
   "outputs": [],
   "source": [
    "driver_executable = \"/Users/bastienwinant/Desktop/SeleniumDrivers/chromedriver\""
   ]
  },
  {
   "cell_type": "code",
   "execution_count": 34,
   "id": "849e5d9e",
   "metadata": {},
   "outputs": [],
   "source": [
    "chrome_service = Service(driver_executable)"
   ]
  },
  {
   "cell_type": "code",
   "execution_count": 40,
   "id": "5671d983",
   "metadata": {},
   "outputs": [],
   "source": [
    "options = webdriver.ChromeOptions()\n",
    "options.add_argument('--ignore-certificate-errors')\n",
    "options.add_argument('--incognito')\n",
    "options.add_argument('--headless')"
   ]
  },
  {
   "cell_type": "code",
   "execution_count": 41,
   "id": "602871c5",
   "metadata": {},
   "outputs": [],
   "source": [
    "# driver = webdriver.Chrome(service=chrome_service, options=op)\n",
    "# driver.close()\n",
    "driver = webdriver.Chrome(service=chrome_service, options=options)"
   ]
  },
  {
   "cell_type": "code",
   "execution_count": 42,
   "id": "afafee4f",
   "metadata": {},
   "outputs": [],
   "source": [
    "driver.close()"
   ]
  },
  {
   "cell_type": "code",
   "execution_count": 43,
   "id": "da4b736f",
   "metadata": {},
   "outputs": [],
   "source": [
    "def open_driver():\n",
    "    driver_executable = \"/Users/bastienwinant/Desktop/SeleniumDrivers/chromedriver\"\n",
    "    \n",
    "    chrome_service = Service(driver_executable)\n",
    "    \n",
    "    options = webdriver.ChromeOptions()\n",
    "    options.add_argument('--ignore-certificate-errors')\n",
    "    options.add_argument('--incognito')\n",
    "    options.add_argument('--headless')\n",
    "    \n",
    "    driver = webdriver.Chrome(service=chrome_service, options=options)\n",
    "    \n",
    "    return driver"
   ]
  },
  {
   "cell_type": "code",
   "execution_count": 44,
   "id": "0a61d8ad",
   "metadata": {},
   "outputs": [],
   "source": [
    "def close_driver(driver):\n",
    "    driver.close()"
   ]
  },
  {
   "cell_type": "code",
   "execution_count": 211,
   "id": "48052a20",
   "metadata": {},
   "outputs": [],
   "source": [
    "def wait_for_element(source, search_by, target, timeout=10, unique_element=False):\n",
    "    try:\n",
    "        print(\"FOUND ELEMENT!\")\n",
    "        if unique_element:\n",
    "            elements = WebDriverWait(source, timeout=timeout).until(lambda d: d.find_element(search_by, target))\n",
    "        else:\n",
    "            elements = WebDriverWait(source, timeout=timeout).until(lambda d: d.find_elements(search_by, target))\n",
    "        \n",
    "    except TimeoutException:\n",
    "        print(\"could not find element with target: \", target)\n",
    "        elements = []\n",
    "    \n",
    "    return elements"
   ]
  },
  {
   "cell_type": "code",
   "execution_count": 212,
   "id": "cdc34f69",
   "metadata": {},
   "outputs": [],
   "source": [
    "def download(url, driver):\n",
    "    driver.get(url)\n",
    "    root_element = wait_for_element(source=driver, search_by=By.ID, target=\"root\", unique_element=True)\n",
    "    data_table = wait_for_element(source=root_element, search_by=By.CLASS_NAME, target=\"rt-table\", unique_element=True)\n",
    "    \n",
    "    table_headers = get_table_columns(data_table)\n",
    "    get_table_rows(data_table, table_headers)\n",
    "    \n",
    "#     return table_headers, table_data"
   ]
  },
  {
   "cell_type": "code",
   "execution_count": 213,
   "id": "1971e2a8",
   "metadata": {},
   "outputs": [],
   "source": [
    "def get_table_columns(source):\n",
    "    table_headers = wait_for_element(source=source, search_by=By.CLASS_NAME, target=\"tableHeaderDiv\", unique_element=True)\n",
    "    headers = wait_for_element(source=table_headers, search_by=By.CLASS_NAME, target=\"rt-th\")\n",
    "    header_names = [header.text for header in headers]\n",
    "    \n",
    "    return header_names"
   ]
  },
  {
   "cell_type": "code",
   "execution_count": 214,
   "id": "6944de2e",
   "metadata": {},
   "outputs": [],
   "source": [
    "def get_table_rows(source, headers):\n",
    "    table_rows = wait_for_element(source=source, search_by=By.CLASS_NAME, target=\"rt-tbody\", unique_element=True)\n",
    "    rows = wait_for_element(source=table_rows, search_by=By.CLASS_NAME, target=\"rt-tr\")\n",
    "    table_data = []\n",
    "    \n",
    "    for row in rows:\n",
    "        cells = wait_for_element(source=row, search_by=By.CLASS_NAME, target=\"rt-td\")\n",
    "        row_values = [cell.text for cell in cells]\n",
    "        \n",
    "        table_data.append(zip(headers, row_values))\n",
    "    \n",
    "    return table_data"
   ]
  },
  {
   "cell_type": "code",
   "execution_count": 203,
   "id": "11805c5f",
   "metadata": {},
   "outputs": [],
   "source": [
    "def game_date_url(date):\n",
    "    now = datetime.now()\n",
    "    date_str = date.strftime(\"%m/%d/%Y\")\n",
    "    \n",
    "    url = f\"https://www.wnba.com/scores/#/{date_str}\"\n",
    "    return url"
   ]
  },
  {
   "cell_type": "code",
   "execution_count": 204,
   "id": "1b811e9a",
   "metadata": {},
   "outputs": [],
   "source": [
    "date1 = datetime.strptime('07/10/2016', '%m/%d/%Y')"
   ]
  },
  {
   "cell_type": "code",
   "execution_count": 215,
   "id": "c714fe80",
   "metadata": {},
   "outputs": [
    {
     "name": "stdout",
     "output_type": "stream",
     "text": [
      "FOUND ELEMENT!\n",
      "FOUND ELEMENT!\n",
      "FOUND ELEMENT!\n",
      "FOUND ELEMENT!\n",
      "FOUND ELEMENT!\n",
      "FOUND ELEMENT!\n",
      "FOUND ELEMENT!\n",
      "FOUND ELEMENT!\n",
      "FOUND ELEMENT!\n",
      "FOUND ELEMENT!\n",
      "FOUND ELEMENT!\n",
      "FOUND ELEMENT!\n",
      "FOUND ELEMENT!\n",
      "FOUND ELEMENT!\n",
      "FOUND ELEMENT!\n",
      "FOUND ELEMENT!\n",
      "FOUND ELEMENT!\n",
      "FOUND ELEMENT!\n",
      "FOUND ELEMENT!\n",
      "FOUND ELEMENT!\n",
      "FOUND ELEMENT!\n",
      "FOUND ELEMENT!\n",
      "FOUND ELEMENT!\n",
      "FOUND ELEMENT!\n",
      "FOUND ELEMENT!\n",
      "FOUND ELEMENT!\n",
      "FOUND ELEMENT!\n",
      "FOUND ELEMENT!\n",
      "FOUND ELEMENT!\n",
      "FOUND ELEMENT!\n",
      "FOUND ELEMENT!\n",
      "FOUND ELEMENT!\n",
      "FOUND ELEMENT!\n",
      "FOUND ELEMENT!\n",
      "FOUND ELEMENT!\n",
      "FOUND ELEMENT!\n",
      "FOUND ELEMENT!\n",
      "FOUND ELEMENT!\n"
     ]
    },
    {
     "ename": "TypeError",
     "evalue": "cannot unpack non-iterable NoneType object",
     "output_type": "error",
     "traceback": [
      "\u001b[0;31m---------------------------------------------------------------------------\u001b[0m",
      "\u001b[0;31mTypeError\u001b[0m                                 Traceback (most recent call last)",
      "Input \u001b[0;32mIn [215]\u001b[0m, in \u001b[0;36m<cell line: 3>\u001b[0;34m()\u001b[0m\n\u001b[1;32m      1\u001b[0m chrome_driver \u001b[38;5;241m=\u001b[39m open_driver()\n\u001b[1;32m      2\u001b[0m games_url \u001b[38;5;241m=\u001b[39m game_date_url(date1)\n\u001b[0;32m----> 3\u001b[0m header, data \u001b[38;5;241m=\u001b[39m download(\u001b[38;5;124m\"\u001b[39m\u001b[38;5;124mhttps://www.nhl.com/stats/teams?aggregate=0&reportType=season&seasonFrom=20212022&seasonTo=20212022&gameType=2&filter=gamesPlayed,gte,1&sort=points,wins&page=0&pageSize=50\u001b[39m\u001b[38;5;124m\"\u001b[39m, chrome_driver)\n\u001b[1;32m      4\u001b[0m close_driver(chrome_driver)\n",
      "\u001b[0;31mTypeError\u001b[0m: cannot unpack non-iterable NoneType object"
     ]
    }
   ],
   "source": [
    "chrome_driver = open_driver()\n",
    "games_url = game_date_url(date1)\n",
    "header, data = download(\"https://www.nhl.com/stats/teams?aggregate=0&reportType=season&seasonFrom=20212022&seasonTo=20212022&gameType=2&filter=gamesPlayed,gte,1&sort=points,wins&page=0&pageSize=50\", chrome_driver)\n",
    "close_driver(chrome_driver)"
   ]
  },
  {
   "cell_type": "code",
   "execution_count": null,
   "id": "e19e9b29",
   "metadata": {},
   "outputs": [],
   "source": [
    "# print(elements.text)"
   ]
  },
  {
   "cell_type": "code",
   "execution_count": null,
   "id": "91ca6b2a",
   "metadata": {},
   "outputs": [],
   "source": []
  }
 ],
 "metadata": {
  "kernelspec": {
   "display_name": "Python 3 (ipykernel)",
   "language": "python",
   "name": "python3"
  },
  "language_info": {
   "codemirror_mode": {
    "name": "ipython",
    "version": 3
   },
   "file_extension": ".py",
   "mimetype": "text/x-python",
   "name": "python",
   "nbconvert_exporter": "python",
   "pygments_lexer": "ipython3",
   "version": "3.9.10"
  }
 },
 "nbformat": 4,
 "nbformat_minor": 5
}
