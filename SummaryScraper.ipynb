{
 "cells": [
  {
   "cell_type": "code",
   "execution_count": 1,
   "id": "67da6b48",
   "metadata": {},
   "outputs": [],
   "source": [
    "%load_ext autoreload\n",
    "%autoreload 2"
   ]
  },
  {
   "cell_type": "code",
   "execution_count": 2,
   "id": "01c17240",
   "metadata": {},
   "outputs": [],
   "source": [
    "import pandas as pd\n",
    "from extract import open_driver, close_driver, wait_for_element\n",
    "from transforms import parse_record, parse_game_date\n",
    "from selenium.webdriver.common.by import By\n",
    "from DML import db_connect, close_db_connect\n",
    "from psycopg2.extras import execute_batch\n",
    "from sql_queries import summary_table_insert"
   ]
  },
  {
   "cell_type": "code",
   "execution_count": 3,
   "id": "a89be1a9",
   "metadata": {},
   "outputs": [],
   "source": [
    "def get_table_columns(table_element):\n",
    "    header_container = wait_for_element(source=table_element, search_by=By.CLASS_NAME, target=\"tableHeaderDiv\", unique_element=True)\n",
    "    header_elements = wait_for_element(source=header_container, search_by=By.CLASS_NAME, target=\"rt-th\")\n",
    "    header_names = [header.text for header in header_elements]\n",
    "    \n",
    "    return header_names\n",
    "\n",
    "def get_table_rows(table_element):\n",
    "    table_rows = wait_for_element(source=table_element, search_by=By.CLASS_NAME, target=\"rt-tbody\", unique_element=True)\n",
    "    rows = wait_for_element(source=table_rows, search_by=By.CLASS_NAME, target=\"rt-tr\")\n",
    "    \n",
    "    return rows"
   ]
  },
  {
   "cell_type": "code",
   "execution_count": 4,
   "id": "932b0229",
   "metadata": {},
   "outputs": [],
   "source": [
    "class Scraper:\n",
    "    def __init__(self):\n",
    "        self.driver = None\n",
    "        self.conn = None\n",
    "        self.cur = None\n",
    "        self.table_data = None\n",
    "        self.table_headers = None\n",
    "        self.table_insert = \"\"\n",
    "    \n",
    "    def open_driver(self):\n",
    "        self.driver = open_driver()\n",
    "    \n",
    "    def close_driver(self):\n",
    "        if self.driver:\n",
    "            close_driver(self.driver)\n",
    "            \n",
    "    def db_connect(self):\n",
    "        self.conn, self.cur = db_connect()\n",
    "    \n",
    "    def close_db_connect(self):\n",
    "        if self.conn and self.cur:\n",
    "            close_db_connect(self.conn, self.cur)\n",
    "            \n",
    "    def extract(self, url):\n",
    "        \"\"\"sends requests to the url and scrapes the table elements\"\"\"\n",
    "        self.driver.get(url)\n",
    "        \n",
    "        # scrape the page's main table\n",
    "        root_element = wait_for_element(source=self.driver, search_by=By.ID, target=\"root\", unique_element=True)\n",
    "        data_table = wait_for_element(source=root_element, search_by=By.CLASS_NAME, target=\"rt-table\", unique_element=True)\n",
    "        \n",
    "        header_elements = get_table_columns(data_table)\n",
    "        row_elements = get_table_rows(data_table)\n",
    "        \n",
    "        return header_elements, row_elements\n",
    "    \n",
    "\n",
    "    def load(self, data_rows):\n",
    "        execute_batch(self.cur, self.table_insert, data_rows)"
   ]
  },
  {
   "cell_type": "code",
   "execution_count": 5,
   "id": "4807057f",
   "metadata": {},
   "outputs": [],
   "source": [
    "class SummaryScraper(Scraper):\n",
    "    def __init__(self):\n",
    "        super().__init__()\n",
    "        self.table_insert = summary_table_insert\n",
    "    \n",
    "    def transform(self, headers, row_elements):\n",
    "        table_data = []\n",
    "        \n",
    "        for row in row_elements:\n",
    "            row_cells = wait_for_element(source=row, search_by=By.CLASS_NAME, target=\"rt-td\")\n",
    "            row_values = [cell.text for cell in row_cells]\n",
    "            \n",
    "            values_map = list(zip(headers, row_values))\n",
    "            map_dict = parse_record(values_map)\n",
    "            \n",
    "            self.cur.execute(\"SELECT abbreviation FROM teams WHERE team = %s;\", (map_dict[\"Team\"],))\n",
    "            team_abbreviation = self.cur.fetchone()[0]\n",
    "            \n",
    "            ordered_data_list = [\n",
    "                team_abbreviation,\n",
    "                \"2021/22\",\n",
    "                map_dict[\"game_date\"],\n",
    "                map_dict[\"home_game\"],\n",
    "                map_dict[\"opponent\"],\n",
    "                map_dict[\"W\"],\n",
    "                map_dict[\"L\"],\n",
    "                map_dict[\"T\"],\n",
    "                map_dict[\"OT\"],\n",
    "                map_dict[\"P\"],\n",
    "                map_dict[\"P%\"],\n",
    "                map_dict[\"RW\"],\n",
    "                map_dict[\"ROW\"],\n",
    "                map_dict[\"S/O Win\"],\n",
    "                map_dict[\"GF\"],\n",
    "                map_dict[\"GA\"],\n",
    "                map_dict[\"PP%\"],\n",
    "                map_dict[\"PK%\"],\n",
    "                map_dict[\"Net PP%\"],\n",
    "                map_dict[\"Net PK%\"],\n",
    "                map_dict[\"Shots/GP\"],\n",
    "                map_dict[\"GA/GP\"],\n",
    "                map_dict[\"FOW%\"]\n",
    "            ]\n",
    "        \n",
    "            table_data.append(ordered_data_list)\n",
    "        \n",
    "        return table_data\n",
    "    \n",
    "    def etl(self, url):\n",
    "        # the chrome driver and database cursor are used in multiple scripts\n",
    "        self.open_driver()\n",
    "        self.db_connect()\n",
    "        \n",
    "        table_headers, table_rows = self.extract(url)\n",
    "        parsed_data = self.transform(table_headers, table_rows)        \n",
    "        \n",
    "        # TODO: execute batch loading\n",
    "        self.load(parsed_data)\n",
    "        \n",
    "        # close the driver and the cursor\n",
    "        self.close_driver()\n",
    "        self.close_db_connect()\n",
    "        \n",
    "        return parsed_data"
   ]
  },
  {
   "cell_type": "code",
   "execution_count": 6,
   "id": "9887a6ac",
   "metadata": {},
   "outputs": [],
   "source": [
    "scraper = SummaryScraper()"
   ]
  },
  {
   "cell_type": "code",
   "execution_count": 7,
   "id": "2ea668f0",
   "metadata": {},
   "outputs": [
    {
     "ename": "ProgrammingError",
     "evalue": "can't execute an empty query",
     "output_type": "error",
     "traceback": [
      "\u001b[0;31m---------------------------------------------------------------------------\u001b[0m",
      "\u001b[0;31mProgrammingError\u001b[0m                          Traceback (most recent call last)",
      "Input \u001b[0;32mIn [7]\u001b[0m, in \u001b[0;36m<cell line: 1>\u001b[0;34m()\u001b[0m\n\u001b[0;32m----> 1\u001b[0m summary_table_data \u001b[38;5;241m=\u001b[39m \u001b[43mscraper\u001b[49m\u001b[38;5;241;43m.\u001b[39;49m\u001b[43metl\u001b[49m\u001b[43m(\u001b[49m\u001b[38;5;124;43m\"\u001b[39;49m\u001b[38;5;124;43mhttps://www.nhl.com/stats/teams?aggregate=0&reportType=game&seasonFrom=20212022&seasonTo=20212022&dateFromSeason&gameType=2&filter=gamesPlayed,gte,1&sort=points,wins&page=0&pageSize=100\u001b[39;49m\u001b[38;5;124;43m\"\u001b[39;49m\u001b[43m)\u001b[49m\n",
      "Input \u001b[0;32mIn [5]\u001b[0m, in \u001b[0;36mSummaryScraper.etl\u001b[0;34m(self, url)\u001b[0m\n\u001b[1;32m     54\u001b[0m parsed_data \u001b[38;5;241m=\u001b[39m \u001b[38;5;28mself\u001b[39m\u001b[38;5;241m.\u001b[39mtransform(table_headers, table_rows)        \n\u001b[1;32m     56\u001b[0m \u001b[38;5;66;03m# TODO: execute batch loading\u001b[39;00m\n\u001b[0;32m---> 57\u001b[0m \u001b[38;5;28;43mself\u001b[39;49m\u001b[38;5;241;43m.\u001b[39;49m\u001b[43mload\u001b[49m\u001b[43m(\u001b[49m\u001b[43mparsed_data\u001b[49m\u001b[43m)\u001b[49m\n\u001b[1;32m     59\u001b[0m \u001b[38;5;66;03m# close the driver and the cursor\u001b[39;00m\n\u001b[1;32m     60\u001b[0m \u001b[38;5;28mself\u001b[39m\u001b[38;5;241m.\u001b[39mclose_driver()\n",
      "Input \u001b[0;32mIn [4]\u001b[0m, in \u001b[0;36mScraper.load\u001b[0;34m(self, data_rows)\u001b[0m\n\u001b[1;32m     38\u001b[0m \u001b[38;5;28;01mdef\u001b[39;00m \u001b[38;5;21mload\u001b[39m(\u001b[38;5;28mself\u001b[39m, data_rows):\n\u001b[0;32m---> 39\u001b[0m     \u001b[43mexecute_batch\u001b[49m\u001b[43m(\u001b[49m\u001b[38;5;28;43mself\u001b[39;49m\u001b[38;5;241;43m.\u001b[39;49m\u001b[43mcur\u001b[49m\u001b[43m,\u001b[49m\u001b[43m \u001b[49m\u001b[38;5;28;43mself\u001b[39;49m\u001b[38;5;241;43m.\u001b[39;49m\u001b[43mtable_insert\u001b[49m\u001b[43m,\u001b[49m\u001b[43m \u001b[49m\u001b[43mdata_rows\u001b[49m\u001b[43m)\u001b[49m\n",
      "File \u001b[0;32m~/Desktop/Projects/nhl-blog-scripts/env/lib/python3.9/site-packages/psycopg2/extras.py:1186\u001b[0m, in \u001b[0;36mexecute_batch\u001b[0;34m(cur, sql, argslist, page_size)\u001b[0m\n\u001b[1;32m   1166\u001b[0m \u001b[38;5;124mr\u001b[39m\u001b[38;5;124;03m\"\"\"Execute groups of statements in fewer server roundtrips.\u001b[39;00m\n\u001b[1;32m   1167\u001b[0m \n\u001b[1;32m   1168\u001b[0m \u001b[38;5;124;03mExecute *sql* several times, against all parameters set (sequences or\u001b[39;00m\n\u001b[0;32m   (...)\u001b[0m\n\u001b[1;32m   1183\u001b[0m \n\u001b[1;32m   1184\u001b[0m \u001b[38;5;124;03m\"\"\"\u001b[39;00m\n\u001b[1;32m   1185\u001b[0m \u001b[38;5;28;01mfor\u001b[39;00m page \u001b[38;5;129;01min\u001b[39;00m _paginate(argslist, page_size\u001b[38;5;241m=\u001b[39mpage_size):\n\u001b[0;32m-> 1186\u001b[0m     sqls \u001b[38;5;241m=\u001b[39m [cur\u001b[38;5;241m.\u001b[39mmogrify(sql, args) \u001b[38;5;28;01mfor\u001b[39;00m args \u001b[38;5;129;01min\u001b[39;00m page]\n\u001b[1;32m   1187\u001b[0m     cur\u001b[38;5;241m.\u001b[39mexecute(\u001b[38;5;124mb\u001b[39m\u001b[38;5;124m\"\u001b[39m\u001b[38;5;124m;\u001b[39m\u001b[38;5;124m\"\u001b[39m\u001b[38;5;241m.\u001b[39mjoin(sqls))\n",
      "File \u001b[0;32m~/Desktop/Projects/nhl-blog-scripts/env/lib/python3.9/site-packages/psycopg2/extras.py:1186\u001b[0m, in \u001b[0;36m<listcomp>\u001b[0;34m(.0)\u001b[0m\n\u001b[1;32m   1166\u001b[0m \u001b[38;5;124mr\u001b[39m\u001b[38;5;124;03m\"\"\"Execute groups of statements in fewer server roundtrips.\u001b[39;00m\n\u001b[1;32m   1167\u001b[0m \n\u001b[1;32m   1168\u001b[0m \u001b[38;5;124;03mExecute *sql* several times, against all parameters set (sequences or\u001b[39;00m\n\u001b[0;32m   (...)\u001b[0m\n\u001b[1;32m   1183\u001b[0m \n\u001b[1;32m   1184\u001b[0m \u001b[38;5;124;03m\"\"\"\u001b[39;00m\n\u001b[1;32m   1185\u001b[0m \u001b[38;5;28;01mfor\u001b[39;00m page \u001b[38;5;129;01min\u001b[39;00m _paginate(argslist, page_size\u001b[38;5;241m=\u001b[39mpage_size):\n\u001b[0;32m-> 1186\u001b[0m     sqls \u001b[38;5;241m=\u001b[39m [\u001b[43mcur\u001b[49m\u001b[38;5;241;43m.\u001b[39;49m\u001b[43mmogrify\u001b[49m\u001b[43m(\u001b[49m\u001b[43msql\u001b[49m\u001b[43m,\u001b[49m\u001b[43m \u001b[49m\u001b[43margs\u001b[49m\u001b[43m)\u001b[49m \u001b[38;5;28;01mfor\u001b[39;00m args \u001b[38;5;129;01min\u001b[39;00m page]\n\u001b[1;32m   1187\u001b[0m     cur\u001b[38;5;241m.\u001b[39mexecute(\u001b[38;5;124mb\u001b[39m\u001b[38;5;124m\"\u001b[39m\u001b[38;5;124m;\u001b[39m\u001b[38;5;124m\"\u001b[39m\u001b[38;5;241m.\u001b[39mjoin(sqls))\n",
      "\u001b[0;31mProgrammingError\u001b[0m: can't execute an empty query"
     ]
    }
   ],
   "source": [
    "summary_table_data = scraper.etl(\"https://www.nhl.com/stats/teams?aggregate=0&reportType=game&seasonFrom=20212022&seasonTo=20212022&dateFromSeason&gameType=2&filter=gamesPlayed,gte,1&sort=points,wins&page=0&pageSize=100\")"
   ]
  },
  {
   "cell_type": "code",
   "execution_count": null,
   "id": "7942c690",
   "metadata": {},
   "outputs": [],
   "source": [
    "summary_table_data"
   ]
  },
  {
   "cell_type": "code",
   "execution_count": null,
   "id": "12c609df",
   "metadata": {},
   "outputs": [],
   "source": []
  }
 ],
 "metadata": {
  "kernelspec": {
   "display_name": "Python 3 (ipykernel)",
   "language": "python",
   "name": "python3"
  },
  "language_info": {
   "codemirror_mode": {
    "name": "ipython",
    "version": 3
   },
   "file_extension": ".py",
   "mimetype": "text/x-python",
   "name": "python",
   "nbconvert_exporter": "python",
   "pygments_lexer": "ipython3",
   "version": "3.9.12"
  }
 },
 "nbformat": 4,
 "nbformat_minor": 5
}
