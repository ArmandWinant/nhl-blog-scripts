{
 "cells": [
  {
   "cell_type": "code",
   "execution_count": 15,
   "id": "67da6b48",
   "metadata": {},
   "outputs": [
    {
     "name": "stdout",
     "output_type": "stream",
     "text": [
      "The autoreload extension is already loaded. To reload it, use:\n",
      "  %reload_ext autoreload\n"
     ]
    }
   ],
   "source": [
    "%load_ext autoreload\n",
    "%autoreload 2"
   ]
  },
  {
   "cell_type": "code",
   "execution_count": 16,
   "id": "01c17240",
   "metadata": {},
   "outputs": [],
   "source": [
    "import time\n",
    "from summaryScraper import SummaryScraper\n",
    "from powerplayScraper import PowerplayScraper\n",
    "from selenium.common.exceptions import WebDriverException"
   ]
  },
  {
   "cell_type": "code",
   "execution_count": 17,
   "id": "7942c690",
   "metadata": {},
   "outputs": [],
   "source": [
    "# scraper = SummaryScraper()\n",
    "# for i in range(1997, 1998):\n",
    "#     scraper.etl(start=i)\n",
    "#     time.sleep(120)\n",
    "scraper = PowerplayScraper()"
   ]
  },
  {
   "cell_type": "code",
   "execution_count": 18,
   "id": "21590256",
   "metadata": {},
   "outputs": [
    {
     "data": {
      "text/plain": [
       "{'aggregate': 0, 'reportType': 'game', 'pageSize': 100, 'report': 'powerplay'}"
      ]
     },
     "execution_count": 18,
     "metadata": {},
     "output_type": "execute_result"
    }
   ],
   "source": [
    "scraper.url_dict"
   ]
  },
  {
   "cell_type": "code",
   "execution_count": 19,
   "id": "8d5b2c36",
   "metadata": {},
   "outputs": [
    {
     "name": "stdout",
     "output_type": "stream",
     "text": [
      "Loaded 100 records\n"
     ]
    }
   ],
   "source": [
    "scraper.etl(start=2021)"
   ]
  },
  {
   "cell_type": "code",
   "execution_count": null,
   "id": "617e1edb",
   "metadata": {},
   "outputs": [],
   "source": []
  }
 ],
 "metadata": {
  "kernelspec": {
   "display_name": "Python 3 (ipykernel)",
   "language": "python",
   "name": "python3"
  },
  "language_info": {
   "codemirror_mode": {
    "name": "ipython",
    "version": 3
   },
   "file_extension": ".py",
   "mimetype": "text/x-python",
   "name": "python",
   "nbconvert_exporter": "python",
   "pygments_lexer": "ipython3",
   "version": "3.9.12"
  }
 },
 "nbformat": 4,
 "nbformat_minor": 5
}
