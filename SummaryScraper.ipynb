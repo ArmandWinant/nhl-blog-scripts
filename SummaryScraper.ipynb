{
 "cells": [
  {
   "cell_type": "code",
   "execution_count": 8,
   "id": "67da6b48",
   "metadata": {},
   "outputs": [
    {
     "name": "stdout",
     "output_type": "stream",
     "text": [
      "The autoreload extension is already loaded. To reload it, use:\n",
      "  %reload_ext autoreload\n"
     ]
    }
   ],
   "source": [
    "%load_ext autoreload\n",
    "%autoreload 2"
   ]
  },
  {
   "cell_type": "code",
   "execution_count": 9,
   "id": "01c17240",
   "metadata": {},
   "outputs": [],
   "source": [
    "import pandas as pd\n",
    "from extract import open_driver, close_driver, wait_for_element\n",
    "from transforms import parse_record, parse_game_date, game_season\n",
    "from selenium.webdriver.common.by import By\n",
    "from DML import db_connect, close_db_connect\n",
    "from psycopg2.extras import execute_batch\n",
    "from sql_queries import summary_table_insert\n",
    "import urllib.parse\n",
    "from datetime import datetime"
   ]
  },
  {
   "cell_type": "code",
   "execution_count": 10,
   "id": "a89be1a9",
   "metadata": {},
   "outputs": [],
   "source": [
    "def get_table_columns(table_element):\n",
    "    header_container = wait_for_element(source=table_element, search_by=By.CLASS_NAME, target=\"tableHeaderDiv\", unique_element=True)\n",
    "    print(len(header_container))\n",
    "    header_elements = wait_for_element(source=header_container, search_by=By.CLASS_NAME, target=\"rt-th\")\n",
    "    header_names = [header.text for header in header_elements]\n",
    "    \n",
    "    return header_names\n",
    "\n",
    "def get_table_rows(table_element):\n",
    "    table_rows = wait_for_element(source=table_element, search_by=By.CLASS_NAME, target=\"rt-tbody\", unique_element=True)\n",
    "    rows = wait_for_element(source=table_rows, search_by=By.CLASS_NAME, target=\"rt-tr\")\n",
    "    \n",
    "    return rows"
   ]
  },
  {
   "cell_type": "code",
   "execution_count": 11,
   "id": "932b0229",
   "metadata": {},
   "outputs": [],
   "source": [
    "class Scraper:\n",
    "    def __init__(self):\n",
    "        self.driver = None\n",
    "        self.conn = None\n",
    "        self.cur = None\n",
    "        self.table_data = None\n",
    "        self.table_headers = None\n",
    "        self.table_insert = \"\"\n",
    "    \n",
    "    def open_driver(self):\n",
    "        self.driver = open_driver()\n",
    "    \n",
    "    def close_driver(self):\n",
    "        if self.driver:\n",
    "            close_driver(self.driver)\n",
    "            \n",
    "    def db_connect(self):\n",
    "        self.conn, self.cur = db_connect()\n",
    "    \n",
    "    def close_db_connect(self):\n",
    "        if self.conn and self.cur:\n",
    "            close_db_connect(self.conn, self.cur)\n",
    "            \n",
    "    def extract(self, url):\n",
    "        \"\"\"sends requests to the url and scrapes the table elements (header and rows)\"\"\"\n",
    "        self.driver.get(url)\n",
    "        \n",
    "        # scrape the page's main table\n",
    "        root_element = wait_for_element(source=self.driver, search_by=By.ID, target=\"root\", unique_element=True)\n",
    "        data_table = wait_for_element(source=root_element, search_by=By.CLASS_NAME, target=\"rt-table\", unique_element=True)\n",
    "        \n",
    "        header_elements = get_table_columns(data_table)\n",
    "        row_elements = get_table_rows(data_table)\n",
    "        \n",
    "        return header_elements, row_elements\n",
    "    \n",
    "\n",
    "    def load(self, data_rows):\n",
    "        execute_batch(self.cur, self.table_insert, data_rows)"
   ]
  },
  {
   "cell_type": "code",
   "execution_count": 15,
   "id": "4807057f",
   "metadata": {},
   "outputs": [],
   "source": [
    "class SummaryScraper(Scraper):\n",
    "    def __init__(self):\n",
    "        super().__init__()\n",
    "        self.table_insert = summary_table_insert\n",
    "        self.base_url = \"https://www.nhl.com/stats/teams?\"\n",
    "        self.url_dict = {\n",
    "            \"aggregate\": 0,\n",
    "            \"reportType\": \"game\",\n",
    "            \"gameType\": 2,\n",
    "            \"page\": 0,\n",
    "            \"pageSize\": 100\n",
    "        }\n",
    "    \n",
    "    def build_url(self, start, end=None, playoffs=False):\n",
    "        if isinstance(start, int):\n",
    "            self.url_dict[\"seasonFrom\"] = start\n",
    "            \n",
    "            if isinstance(end, int):\n",
    "                self.url_dict[\"seasonTo\"] = end\n",
    "            else:\n",
    "                self.url_dict[\"seasonTo\"] = f\"{datetime.now().year}{datetime.now().year+1}\"\n",
    "            \n",
    "            self.url_dict[\"dateFromSeason\"] = []\n",
    "        \n",
    "        elif isinstance(start, str) and start.isnumeric():\n",
    "            self.url_dict[\"seasonFrom\"] = start\n",
    "            \n",
    "            if isinstance(end, str) and end.isnumeric():\n",
    "                self.url_dict[\"seasonTo\"] = end\n",
    "            else:\n",
    "                self.url_dict[\"seasonTo\"] = start\n",
    "            \n",
    "            self.url_dict[\"dateFromSeason\"] = []\n",
    "            \n",
    "        elif isinstance(start, datetime):            \n",
    "            self.url_dict[\"dateFrom\"] = start.strftime(\"%Y-%m-%d\")\n",
    "            \n",
    "            if isinstance(end, datetime):\n",
    "                self.url_dict[\"dateTo\"] = end.strftime(\"%Y-%m-%d\")\n",
    "            else:\n",
    "                self.url_dict[\"dateTo\"] = datetime.now().date()\n",
    "        \n",
    "        url = self.base_url + urllib.parse.urlencode(self.url_dict)\n",
    "        \n",
    "        return url\n",
    "        \n",
    "    def transform(self, headers, row_elements):\n",
    "        table_data = []\n",
    "        \n",
    "        for row in row_elements:\n",
    "            row_cells = wait_for_element(source=row, search_by=By.CLASS_NAME, target=\"rt-td\")\n",
    "            row_values = [cell.text for cell in row_cells]\n",
    "            \n",
    "            values_map = list(zip(headers, row_values))\n",
    "            map_dict = parse_record(values_map)\n",
    "            \n",
    "            self.cur.execute(\"SELECT abbreviation FROM teams WHERE team = %s;\", (map_dict[\"Team\"],))\n",
    "            team_abbreviation = self.cur.fetchone()[0]\n",
    "            \n",
    "            ordered_data_list = [\n",
    "                team_abbreviation,\n",
    "                map_dict[\"season\"],\n",
    "                map_dict[\"game_date\"],\n",
    "                map_dict[\"home_game\"],\n",
    "                map_dict[\"opponent\"],\n",
    "                map_dict[\"W\"],\n",
    "                map_dict[\"L\"],\n",
    "                map_dict[\"T\"],\n",
    "                map_dict[\"OT\"],\n",
    "                map_dict[\"P\"],\n",
    "                map_dict[\"P%\"],\n",
    "                map_dict[\"RW\"],\n",
    "                map_dict[\"ROW\"],\n",
    "                map_dict[\"S/O Win\"],\n",
    "                map_dict[\"GF\"],\n",
    "                map_dict[\"GA\"],\n",
    "                map_dict[\"PP%\"],\n",
    "                map_dict[\"PK%\"],\n",
    "                map_dict[\"Net PP%\"],\n",
    "                map_dict[\"Net PK%\"],\n",
    "                map_dict[\"Shots/GP\"],\n",
    "                map_dict[\"GA/GP\"],\n",
    "                map_dict[\"FOW%\"]\n",
    "            ]\n",
    "        \n",
    "            table_data.append(ordered_data_list)\n",
    "        \n",
    "        return table_data\n",
    "    \n",
    "    def etl(self, start, playoffs=False):\n",
    "        url = self.build_url(start=start)\n",
    "        \n",
    "        print(url)\n",
    "        \n",
    "        url = \"https://www.nhl.com/stats/teams?reportType=game&dateFrom=2021-10-12&dateTo=2022-05-01&gameType=2&filter=gamesPlayed,gte,1&sort=points,wins&page=0&pageSize=50\"\n",
    "\n",
    "        # the chrome driver and database cursor are used in multiple scripts\n",
    "        self.open_driver()\n",
    "        self.db_connect()\n",
    "        \n",
    "        table_headers, table_rows = self.extract(url)\n",
    "        print(len(table_rows))\n",
    "        parsed_data = self.transform(table_headers, table_rows)        \n",
    "        \n",
    "        # execute batch loading\n",
    "        self.load(parsed_data)\n",
    "        \n",
    "        # close the driver and the cursor\n",
    "        self.close_driver()\n",
    "        self.close_db_connect()\n",
    "        \n",
    "        return parsed_data"
   ]
  },
  {
   "cell_type": "code",
   "execution_count": 16,
   "id": "9887a6ac",
   "metadata": {},
   "outputs": [],
   "source": [
    "scraper = SummaryScraper()"
   ]
  },
  {
   "cell_type": "code",
   "execution_count": 17,
   "id": "2ea668f0",
   "metadata": {},
   "outputs": [
    {
     "name": "stdout",
     "output_type": "stream",
     "text": [
      "https://www.nhl.com/stats/teams?aggregate=0&reportType=game&gameType=2&page=0&pageSize=100&seasonFrom=2021&seasonTo=20222023&dateFromSeason=%5B%5D\n",
      "0\n"
     ]
    },
    {
     "ename": "AttributeError",
     "evalue": "'list' object has no attribute 'find_elements'",
     "output_type": "error",
     "traceback": [
      "\u001b[0;31m---------------------------------------------------------------------------\u001b[0m",
      "\u001b[0;31mAttributeError\u001b[0m                            Traceback (most recent call last)",
      "Input \u001b[0;32mIn [17]\u001b[0m, in \u001b[0;36m<cell line: 1>\u001b[0;34m()\u001b[0m\n\u001b[0;32m----> 1\u001b[0m summary_table_data \u001b[38;5;241m=\u001b[39m \u001b[43mscraper\u001b[49m\u001b[38;5;241;43m.\u001b[39;49m\u001b[43metl\u001b[49m\u001b[43m(\u001b[49m\u001b[38;5;241;43m2021\u001b[39;49m\u001b[43m)\u001b[49m\n",
      "Input \u001b[0;32mIn [15]\u001b[0m, in \u001b[0;36mSummaryScraper.etl\u001b[0;34m(self, start, playoffs)\u001b[0m\n\u001b[1;32m     96\u001b[0m \u001b[38;5;28mself\u001b[39m\u001b[38;5;241m.\u001b[39mopen_driver()\n\u001b[1;32m     97\u001b[0m \u001b[38;5;28mself\u001b[39m\u001b[38;5;241m.\u001b[39mdb_connect()\n\u001b[0;32m---> 99\u001b[0m table_headers, table_rows \u001b[38;5;241m=\u001b[39m \u001b[38;5;28;43mself\u001b[39;49m\u001b[38;5;241;43m.\u001b[39;49m\u001b[43mextract\u001b[49m\u001b[43m(\u001b[49m\u001b[43murl\u001b[49m\u001b[43m)\u001b[49m\n\u001b[1;32m    100\u001b[0m \u001b[38;5;28mprint\u001b[39m(\u001b[38;5;28mlen\u001b[39m(table_rows))\n\u001b[1;32m    101\u001b[0m parsed_data \u001b[38;5;241m=\u001b[39m \u001b[38;5;28mself\u001b[39m\u001b[38;5;241m.\u001b[39mtransform(table_headers, table_rows)        \n",
      "Input \u001b[0;32mIn [11]\u001b[0m, in \u001b[0;36mScraper.extract\u001b[0;34m(self, url)\u001b[0m\n\u001b[1;32m     29\u001b[0m root_element \u001b[38;5;241m=\u001b[39m wait_for_element(source\u001b[38;5;241m=\u001b[39m\u001b[38;5;28mself\u001b[39m\u001b[38;5;241m.\u001b[39mdriver, search_by\u001b[38;5;241m=\u001b[39mBy\u001b[38;5;241m.\u001b[39mID, target\u001b[38;5;241m=\u001b[39m\u001b[38;5;124m\"\u001b[39m\u001b[38;5;124mroot\u001b[39m\u001b[38;5;124m\"\u001b[39m, unique_element\u001b[38;5;241m=\u001b[39m\u001b[38;5;28;01mTrue\u001b[39;00m)\n\u001b[1;32m     30\u001b[0m data_table \u001b[38;5;241m=\u001b[39m wait_for_element(source\u001b[38;5;241m=\u001b[39mroot_element, search_by\u001b[38;5;241m=\u001b[39mBy\u001b[38;5;241m.\u001b[39mCLASS_NAME, target\u001b[38;5;241m=\u001b[39m\u001b[38;5;124m\"\u001b[39m\u001b[38;5;124mrt-table\u001b[39m\u001b[38;5;124m\"\u001b[39m, unique_element\u001b[38;5;241m=\u001b[39m\u001b[38;5;28;01mTrue\u001b[39;00m)\n\u001b[0;32m---> 32\u001b[0m header_elements \u001b[38;5;241m=\u001b[39m \u001b[43mget_table_columns\u001b[49m\u001b[43m(\u001b[49m\u001b[43mdata_table\u001b[49m\u001b[43m)\u001b[49m\n\u001b[1;32m     33\u001b[0m row_elements \u001b[38;5;241m=\u001b[39m get_table_rows(data_table)\n\u001b[1;32m     35\u001b[0m \u001b[38;5;28;01mreturn\u001b[39;00m header_elements, row_elements\n",
      "Input \u001b[0;32mIn [10]\u001b[0m, in \u001b[0;36mget_table_columns\u001b[0;34m(table_element)\u001b[0m\n\u001b[1;32m      2\u001b[0m header_container \u001b[38;5;241m=\u001b[39m wait_for_element(source\u001b[38;5;241m=\u001b[39mtable_element, search_by\u001b[38;5;241m=\u001b[39mBy\u001b[38;5;241m.\u001b[39mCLASS_NAME, target\u001b[38;5;241m=\u001b[39m\u001b[38;5;124m\"\u001b[39m\u001b[38;5;124mtableHeaderDiv\u001b[39m\u001b[38;5;124m\"\u001b[39m, unique_element\u001b[38;5;241m=\u001b[39m\u001b[38;5;28;01mTrue\u001b[39;00m)\n\u001b[1;32m      3\u001b[0m \u001b[38;5;28mprint\u001b[39m(\u001b[38;5;28mlen\u001b[39m(header_container))\n\u001b[0;32m----> 4\u001b[0m header_elements \u001b[38;5;241m=\u001b[39m \u001b[43mwait_for_element\u001b[49m\u001b[43m(\u001b[49m\u001b[43msource\u001b[49m\u001b[38;5;241;43m=\u001b[39;49m\u001b[43mheader_container\u001b[49m\u001b[43m,\u001b[49m\u001b[43m \u001b[49m\u001b[43msearch_by\u001b[49m\u001b[38;5;241;43m=\u001b[39;49m\u001b[43mBy\u001b[49m\u001b[38;5;241;43m.\u001b[39;49m\u001b[43mCLASS_NAME\u001b[49m\u001b[43m,\u001b[49m\u001b[43m \u001b[49m\u001b[43mtarget\u001b[49m\u001b[38;5;241;43m=\u001b[39;49m\u001b[38;5;124;43m\"\u001b[39;49m\u001b[38;5;124;43mrt-th\u001b[39;49m\u001b[38;5;124;43m\"\u001b[39;49m\u001b[43m)\u001b[49m\n\u001b[1;32m      5\u001b[0m header_names \u001b[38;5;241m=\u001b[39m [header\u001b[38;5;241m.\u001b[39mtext \u001b[38;5;28;01mfor\u001b[39;00m header \u001b[38;5;129;01min\u001b[39;00m header_elements]\n\u001b[1;32m      7\u001b[0m \u001b[38;5;28;01mreturn\u001b[39;00m header_names\n",
      "File \u001b[0;32m~/Desktop/Projects/nhl-blog-scripts/extract.py:45\u001b[0m, in \u001b[0;36mwait_for_element\u001b[0;34m(source, search_by, target, timeout, unique_element)\u001b[0m\n\u001b[1;32m     43\u001b[0m         elements \u001b[38;5;241m=\u001b[39m WebDriverWait(source, timeout\u001b[38;5;241m=\u001b[39mtimeout)\u001b[38;5;241m.\u001b[39muntil(\u001b[38;5;28;01mlambda\u001b[39;00m d: d\u001b[38;5;241m.\u001b[39mfind_element(search_by, target))\n\u001b[1;32m     44\u001b[0m     \u001b[38;5;28;01melse\u001b[39;00m:\n\u001b[0;32m---> 45\u001b[0m         elements \u001b[38;5;241m=\u001b[39m \u001b[43mWebDriverWait\u001b[49m\u001b[43m(\u001b[49m\u001b[43msource\u001b[49m\u001b[43m,\u001b[49m\u001b[43m \u001b[49m\u001b[43mtimeout\u001b[49m\u001b[38;5;241;43m=\u001b[39;49m\u001b[43mtimeout\u001b[49m\u001b[43m)\u001b[49m\u001b[38;5;241;43m.\u001b[39;49m\u001b[43muntil\u001b[49m\u001b[43m(\u001b[49m\u001b[38;5;28;43;01mlambda\u001b[39;49;00m\u001b[43m \u001b[49m\u001b[43md\u001b[49m\u001b[43m:\u001b[49m\u001b[43m \u001b[49m\u001b[43md\u001b[49m\u001b[38;5;241;43m.\u001b[39;49m\u001b[43mfind_elements\u001b[49m\u001b[43m(\u001b[49m\u001b[43msearch_by\u001b[49m\u001b[43m,\u001b[49m\u001b[43m \u001b[49m\u001b[43mtarget\u001b[49m\u001b[43m)\u001b[49m\u001b[43m)\u001b[49m\n\u001b[1;32m     47\u001b[0m \u001b[38;5;28;01mexcept\u001b[39;00m TimeoutException:\n\u001b[1;32m     48\u001b[0m     elements \u001b[38;5;241m=\u001b[39m []\n",
      "File \u001b[0;32m~/Desktop/Projects/nhl-blog-scripts/env/lib/python3.9/site-packages/selenium/webdriver/support/wait.py:78\u001b[0m, in \u001b[0;36mWebDriverWait.until\u001b[0;34m(self, method, message)\u001b[0m\n\u001b[1;32m     76\u001b[0m \u001b[38;5;28;01mwhile\u001b[39;00m \u001b[38;5;28;01mTrue\u001b[39;00m:\n\u001b[1;32m     77\u001b[0m     \u001b[38;5;28;01mtry\u001b[39;00m:\n\u001b[0;32m---> 78\u001b[0m         value \u001b[38;5;241m=\u001b[39m \u001b[43mmethod\u001b[49m\u001b[43m(\u001b[49m\u001b[38;5;28;43mself\u001b[39;49m\u001b[38;5;241;43m.\u001b[39;49m\u001b[43m_driver\u001b[49m\u001b[43m)\u001b[49m\n\u001b[1;32m     79\u001b[0m         \u001b[38;5;28;01mif\u001b[39;00m value:\n\u001b[1;32m     80\u001b[0m             \u001b[38;5;28;01mreturn\u001b[39;00m value\n",
      "File \u001b[0;32m~/Desktop/Projects/nhl-blog-scripts/extract.py:45\u001b[0m, in \u001b[0;36mwait_for_element.<locals>.<lambda>\u001b[0;34m(d)\u001b[0m\n\u001b[1;32m     43\u001b[0m         elements \u001b[38;5;241m=\u001b[39m WebDriverWait(source, timeout\u001b[38;5;241m=\u001b[39mtimeout)\u001b[38;5;241m.\u001b[39muntil(\u001b[38;5;28;01mlambda\u001b[39;00m d: d\u001b[38;5;241m.\u001b[39mfind_element(search_by, target))\n\u001b[1;32m     44\u001b[0m     \u001b[38;5;28;01melse\u001b[39;00m:\n\u001b[0;32m---> 45\u001b[0m         elements \u001b[38;5;241m=\u001b[39m WebDriverWait(source, timeout\u001b[38;5;241m=\u001b[39mtimeout)\u001b[38;5;241m.\u001b[39muntil(\u001b[38;5;28;01mlambda\u001b[39;00m d: \u001b[43md\u001b[49m\u001b[38;5;241;43m.\u001b[39;49m\u001b[43mfind_elements\u001b[49m(search_by, target))\n\u001b[1;32m     47\u001b[0m \u001b[38;5;28;01mexcept\u001b[39;00m TimeoutException:\n\u001b[1;32m     48\u001b[0m     elements \u001b[38;5;241m=\u001b[39m []\n",
      "\u001b[0;31mAttributeError\u001b[0m: 'list' object has no attribute 'find_elements'"
     ]
    }
   ],
   "source": [
    "summary_table_data = scraper.etl(2021)"
   ]
  },
  {
   "cell_type": "code",
   "execution_count": null,
   "id": "7942c690",
   "metadata": {},
   "outputs": [],
   "source": [
    "len(summary_table_data)"
   ]
  },
  {
   "cell_type": "code",
   "execution_count": null,
   "id": "6fd67c9c",
   "metadata": {},
   "outputs": [],
   "source": []
  },
  {
   "cell_type": "code",
   "execution_count": null,
   "id": "2cd5b974",
   "metadata": {},
   "outputs": [],
   "source": []
  }
 ],
 "metadata": {
  "kernelspec": {
   "display_name": "Python 3 (ipykernel)",
   "language": "python",
   "name": "python3"
  },
  "language_info": {
   "codemirror_mode": {
    "name": "ipython",
    "version": 3
   },
   "file_extension": ".py",
   "mimetype": "text/x-python",
   "name": "python",
   "nbconvert_exporter": "python",
   "pygments_lexer": "ipython3",
   "version": "3.9.12"
  }
 },
 "nbformat": 4,
 "nbformat_minor": 5
}
