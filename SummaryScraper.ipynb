{
 "cells": [
  {
   "cell_type": "code",
   "execution_count": 22,
   "id": "67da6b48",
   "metadata": {},
   "outputs": [
    {
     "name": "stdout",
     "output_type": "stream",
     "text": [
      "The autoreload extension is already loaded. To reload it, use:\n",
      "  %reload_ext autoreload\n"
     ]
    }
   ],
   "source": [
    "%load_ext autoreload\n",
    "%autoreload 2"
   ]
  },
  {
   "cell_type": "code",
   "execution_count": 23,
   "id": "01c17240",
   "metadata": {},
   "outputs": [],
   "source": [
    "import pandas as pd\n",
    "from extract import open_driver, close_driver, wait_for_element\n",
    "from transforms import parse_record, parse_game_date, game_season\n",
    "from selenium.webdriver.common.by import By\n",
    "from DML import db_connect, close_db_connect\n",
    "from psycopg2.extras import execute_batch\n",
    "from sql_queries import summary_table_insert\n",
    "import urllib.parse\n",
    "from datetime import datetime"
   ]
  },
  {
   "cell_type": "code",
   "execution_count": 24,
   "id": "a89be1a9",
   "metadata": {},
   "outputs": [],
   "source": [
    "def get_table_columns(table_element):\n",
    "    header_container = wait_for_element(source=table_element, search_by=By.CLASS_NAME, target=\"table-header-container\", unique_element=True)\n",
    "    header_elements = wait_for_element(source=header_container, search_by=By.CLASS_NAME, target=\"rt-th\")\n",
    "    header_names = [header.text for header in header_elements]\n",
    "    \n",
    "    return header_names\n",
    "\n",
    "def get_table_rows(table_element):\n",
    "    table_rows = wait_for_element(source=table_element, search_by=By.CLASS_NAME, target=\"rt-tbody\", unique_element=True)\n",
    "    rows = wait_for_element(source=table_rows, search_by=By.CLASS_NAME, target=\"rt-tr\")\n",
    "    \n",
    "    return rows"
   ]
  },
  {
   "cell_type": "code",
   "execution_count": 25,
   "id": "932b0229",
   "metadata": {},
   "outputs": [],
   "source": [
    "class Scraper:\n",
    "    def __init__(self):\n",
    "        self.driver = None\n",
    "        self.conn = None\n",
    "        self.cur = None\n",
    "        self.table_data = None\n",
    "        self.table_headers = None\n",
    "        self.table_insert = \"\"\n",
    "    \n",
    "    def open_driver(self):\n",
    "        self.driver = open_driver()\n",
    "    \n",
    "    def close_driver(self):\n",
    "        if self.driver:\n",
    "            close_driver(self.driver)\n",
    "            \n",
    "    def db_connect(self):\n",
    "        self.conn, self.cur = db_connect()\n",
    "    \n",
    "    def close_db_connect(self):\n",
    "        if self.conn and self.cur:\n",
    "            close_db_connect(self.conn, self.cur)\n",
    "            \n",
    "    def extract(self, url):\n",
    "        \"\"\"sends requests to the url and scrapes the table elements (header and rows)\"\"\"\n",
    "        self.driver.get(url)\n",
    "        \n",
    "        # scrape the page's main table\n",
    "        root_element = wait_for_element(source=self.driver, search_by=By.ID, target=\"root\", unique_element=True)\n",
    "        data_table = wait_for_element(source=root_element, search_by=By.CLASS_NAME, target=\"rt-table\", unique_element=True)\n",
    "\n",
    "        header_elements = get_table_columns(data_table)\n",
    "        row_elements = get_table_rows(data_table)\n",
    "        \n",
    "        return header_elements, row_elements\n",
    "    \n",
    "\n",
    "    def load(self, data_rows):\n",
    "        execute_batch(self.cur, self.table_insert, data_rows)"
   ]
  },
  {
   "cell_type": "code",
   "execution_count": 26,
   "id": "4807057f",
   "metadata": {},
   "outputs": [],
   "source": [
    "class SummaryScraper(Scraper):\n",
    "    def __init__(self):\n",
    "        super().__init__()\n",
    "        self.table_insert = summary_table_insert\n",
    "        self.base_url = \"https://www.nhl.com/stats/teams?\"\n",
    "        self.url_dict = {\n",
    "            \"aggregate\": 0,\n",
    "            \"reportType\": \"game\",\n",
    "            \"page\": 0,\n",
    "            \"pageSize\": 100\n",
    "        }\n",
    "    \n",
    "    def build_url(self, start, end=None, playoffs=False):\n",
    "        if playoffs:\n",
    "            self.url_dict[\"gameType\"] = 3\n",
    "        else:\n",
    "            self.url_dict[\"gameType\"] = 2\n",
    "            \n",
    "        if isinstance(start, int):\n",
    "            self.url_dict[\"seasonFrom\"] = start\n",
    "            \n",
    "            if isinstance(end, int):\n",
    "                self.url_dict[\"seasonTo\"] = end\n",
    "            else:\n",
    "                self.url_dict[\"seasonTo\"] = f\"{datetime.now().year}{datetime.now().year+1}\"\n",
    "            \n",
    "            self.url_dict[\"dateFromSeason\"] = []\n",
    "        \n",
    "        elif isinstance(start, str) and start.isnumeric():\n",
    "            self.url_dict[\"seasonFrom\"] = start\n",
    "            \n",
    "            if isinstance(end, str) and end.isnumeric():\n",
    "                self.url_dict[\"seasonTo\"] = end\n",
    "            else:\n",
    "                self.url_dict[\"seasonTo\"] = start\n",
    "            \n",
    "            self.url_dict[\"dateFromSeason\"] = []\n",
    "            \n",
    "        elif isinstance(start, datetime):            \n",
    "            self.url_dict[\"dateFrom\"] = start.strftime(\"%Y-%m-%d\")\n",
    "            \n",
    "            if isinstance(end, datetime):\n",
    "                self.url_dict[\"dateTo\"] = end.strftime(\"%Y-%m-%d\")\n",
    "            else:\n",
    "                self.url_dict[\"dateTo\"] = datetime.now().date()\n",
    "        \n",
    "        url = self.base_url + urllib.parse.urlencode(self.url_dict)\n",
    "        \n",
    "        return url\n",
    "        \n",
    "    def transform(self, headers, row_elements):\n",
    "        table_data = []\n",
    "        \n",
    "        for row in row_elements:\n",
    "            row_cells = wait_for_element(source=row, search_by=By.CLASS_NAME, target=\"rt-td\")\n",
    "            row_values = [cell.text for cell in row_cells]\n",
    "            \n",
    "            values_map = list(zip(headers, row_values))\n",
    "            map_dict = parse_record(values_map)\n",
    "            \n",
    "            self.cur.execute(\"SELECT abbreviation FROM teams WHERE team = %s;\", (map_dict[\"Team\"],))\n",
    "            team_abbreviation = self.cur.fetchone()[0]\n",
    "            \n",
    "            ordered_data_list = [\n",
    "                team_abbreviation,\n",
    "                map_dict[\"season\"],\n",
    "                map_dict[\"game_date\"],\n",
    "                map_dict[\"home_game\"],\n",
    "                map_dict[\"opponent\"],\n",
    "                map_dict[\"W\"],\n",
    "                map_dict[\"L\"],\n",
    "                map_dict[\"T\"],\n",
    "                map_dict[\"OT\"],\n",
    "                map_dict[\"P\"],\n",
    "                map_dict[\"P%\"],\n",
    "                map_dict[\"RW\"],\n",
    "                map_dict[\"ROW\"],\n",
    "                map_dict[\"S/O Win\"],\n",
    "                map_dict[\"GF\"],\n",
    "                map_dict[\"GA\"],\n",
    "                map_dict[\"PP%\"],\n",
    "                map_dict[\"PK%\"],\n",
    "                map_dict[\"Net PP%\"],\n",
    "                map_dict[\"Net PK%\"],\n",
    "                map_dict[\"Shots/GP\"],\n",
    "                map_dict[\"GA/GP\"],\n",
    "                map_dict[\"FOW%\"]\n",
    "            ]\n",
    "        \n",
    "            table_data.append(ordered_data_list)\n",
    "        \n",
    "        return table_data\n",
    "    \n",
    "    def etl(self, start, playoffs=False):\n",
    "        url = self.build_url(start=start)\n",
    "        \n",
    "        # the chrome driver and database cursor are used in multiple scripts\n",
    "        self.open_driver()\n",
    "        self.db_connect()\n",
    "        \n",
    "        table_headers, table_rows = self.extract(url)\n",
    "\n",
    "        parsed_data = self.transform(table_headers, table_rows)        \n",
    "        \n",
    "#         execute batch loading\n",
    "        self.load(parsed_data)\n",
    "        \n",
    "        # close the driver and the cursor\n",
    "        self.close_driver()\n",
    "        self.close_db_connect()\n",
    "        \n",
    "        return parsed_data"
   ]
  },
  {
   "cell_type": "code",
   "execution_count": 27,
   "id": "9887a6ac",
   "metadata": {},
   "outputs": [],
   "source": [
    "scraper = SummaryScraper()"
   ]
  },
  {
   "cell_type": "code",
   "execution_count": 28,
   "id": "2ea668f0",
   "metadata": {},
   "outputs": [],
   "source": [
    "summary_table_data = scraper.etl(2021)"
   ]
  },
  {
   "cell_type": "code",
   "execution_count": 101,
   "id": "7942c690",
   "metadata": {},
   "outputs": [
    {
     "data": {
      "text/plain": [
       "100"
      ]
     },
     "execution_count": 101,
     "metadata": {},
     "output_type": "execute_result"
    }
   ],
   "source": [
    "len(summary_table_data)"
   ]
  },
  {
   "cell_type": "code",
   "execution_count": null,
   "id": "6fd67c9c",
   "metadata": {},
   "outputs": [],
   "source": []
  },
  {
   "cell_type": "code",
   "execution_count": null,
   "id": "2cd5b974",
   "metadata": {},
   "outputs": [],
   "source": []
  }
 ],
 "metadata": {
  "kernelspec": {
   "display_name": "Python 3 (ipykernel)",
   "language": "python",
   "name": "python3"
  },
  "language_info": {
   "codemirror_mode": {
    "name": "ipython",
    "version": 3
   },
   "file_extension": ".py",
   "mimetype": "text/x-python",
   "name": "python",
   "nbconvert_exporter": "python",
   "pygments_lexer": "ipython3",
   "version": "3.9.12"
  }
 },
 "nbformat": 4,
 "nbformat_minor": 5
}
