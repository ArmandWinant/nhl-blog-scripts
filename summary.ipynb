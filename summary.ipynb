{
 "cells": [
  {
   "cell_type": "code",
   "execution_count": 2,
   "id": "6198258f",
   "metadata": {},
   "outputs": [],
   "source": [
    "import pandas as pd\n",
    "from scraping import open_driver, close_driver, wait_for_element\n",
    "from tranform import parse_record, parse_game_date"
   ]
  },
  {
   "cell_type": "code",
   "execution_count": 3,
   "id": "3e4bd912",
   "metadata": {},
   "outputs": [],
   "source": [
    "def download(url, driver):\n",
    "    driver.get(url)\n",
    "    root_element = wait_for_element(source=driver, search_by=By.ID, target=\"root\", unique_element=True)\n",
    "    data_table = wait_for_element(source=root_element, search_by=By.CLASS_NAME, target=\"rt-table\", unique_element=True)\n",
    "    \n",
    "    table_headers = get_table_columns(data_table)\n",
    "    table_data = get_table_rows(data_table, table_headers)\n",
    "    \n",
    "    return table_headers, table_data"
   ]
  },
  {
   "cell_type": "code",
   "execution_count": 4,
   "id": "99317cbb",
   "metadata": {},
   "outputs": [],
   "source": [
    "def get_table_columns(source):\n",
    "    table_headers = wait_for_element(source=source, search_by=By.CLASS_NAME, target=\"tableHeaderDiv\", unique_element=True)\n",
    "    headers = wait_for_element(source=table_headers, search_by=By.CLASS_NAME, target=\"rt-th\")\n",
    "    header_names = [header.text for header in headers]\n",
    "    \n",
    "    return header_names"
   ]
  },
  {
   "cell_type": "code",
   "execution_count": 5,
   "id": "191e1b07",
   "metadata": {},
   "outputs": [],
   "source": [
    "def get_table_rows(source, headers):\n",
    "    table_rows = wait_for_element(source=source, search_by=By.CLASS_NAME, target=\"rt-tbody\", unique_element=True)\n",
    "    rows = wait_for_element(source=table_rows, search_by=By.CLASS_NAME, target=\"rt-tr\")\n",
    "    table_data = []\n",
    "    \n",
    "    for row in rows:\n",
    "        cells = wait_for_element(source=row, search_by=By.CLASS_NAME, target=\"rt-td\")\n",
    "        row_values = [cell.text for cell in cells]\n",
    "        \n",
    "        values_map = list(zip(headers, row_values))\n",
    "        map_dict = parse_record(values_map)\n",
    "        \n",
    "        table_data.append(map_dict)\n",
    "    \n",
    "    return table_data"
   ]
  },
  {
   "cell_type": "code",
   "execution_count": null,
   "id": "8dd6dbcd",
   "metadata": {},
   "outputs": [],
   "source": [
    "def scrape_page(url):\n",
    "    driver = open_driver()\n",
    "    headers, table_data = download(url, driver)\n",
    "    close_driver(driver)"
   ]
  }
 ],
 "metadata": {
  "kernelspec": {
   "display_name": "Python 3 (ipykernel)",
   "language": "python",
   "name": "python3"
  },
  "language_info": {
   "codemirror_mode": {
    "name": "ipython",
    "version": 3
   },
   "file_extension": ".py",
   "mimetype": "text/x-python",
   "name": "python",
   "nbconvert_exporter": "python",
   "pygments_lexer": "ipython3",
   "version": "3.9.12"
  }
 },
 "nbformat": 4,
 "nbformat_minor": 5
}
