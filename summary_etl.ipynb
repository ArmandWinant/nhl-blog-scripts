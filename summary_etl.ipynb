{
 "cells": [
  {
   "cell_type": "code",
   "execution_count": 51,
   "id": "a0509705",
   "metadata": {},
   "outputs": [
    {
     "name": "stdout",
     "output_type": "stream",
     "text": [
      "The autoreload extension is already loaded. To reload it, use:\n",
      "  %reload_ext autoreload\n"
     ]
    }
   ],
   "source": [
    "%load_ext autoreload\n",
    "%autoreload 2"
   ]
  },
  {
   "cell_type": "code",
   "execution_count": 52,
   "id": "52844476",
   "metadata": {},
   "outputs": [],
   "source": [
    "import pandas as pd\n",
    "from extract import open_driver, close_driver, wait_for_element\n",
    "from transforms import parse_record, parse_game_date\n",
    "from selenium.webdriver.common.by import By\n",
    "from DML import db_connect, close_db_connect\n",
    "from sql_queries import summary_table_insert\n",
    "from psycopg2.extras import execute_batch"
   ]
  },
  {
   "cell_type": "code",
   "execution_count": 53,
   "id": "6fc7fd10",
   "metadata": {},
   "outputs": [],
   "source": [
    "def download(url, driver):\n",
    "    driver.get(url)\n",
    "    root_element = wait_for_element(source=driver, search_by=By.ID, target=\"root\", unique_element=True)\n",
    "    data_table = wait_for_element(source=root_element, search_by=By.CLASS_NAME, target=\"rt-table\", unique_element=True)\n",
    "    \n",
    "    table_headers = get_table_columns(data_table)\n",
    "    table_data = get_table_rows(data_table, table_headers)\n",
    "    \n",
    "    return table_data"
   ]
  },
  {
   "cell_type": "code",
   "execution_count": 54,
   "id": "7bc231be",
   "metadata": {},
   "outputs": [],
   "source": [
    "def get_table_columns(source):\n",
    "    table_headers = wait_for_element(source=source, search_by=By.CLASS_NAME, target=\"tableHeaderDiv\", unique_element=True)\n",
    "    headers = wait_for_element(source=table_headers, search_by=By.CLASS_NAME, target=\"rt-th\")\n",
    "    header_names = [header.text for header in headers]\n",
    "    \n",
    "    return header_names"
   ]
  },
  {
   "cell_type": "code",
   "execution_count": 55,
   "id": "bc6e5707",
   "metadata": {},
   "outputs": [],
   "source": [
    "def get_table_rows(source, headers):\n",
    "    table_rows = wait_for_element(source=source, search_by=By.CLASS_NAME, target=\"rt-tbody\", unique_element=True)\n",
    "    rows = wait_for_element(source=table_rows, search_by=By.CLASS_NAME, target=\"rt-tr\")\n",
    "    table_data = []\n",
    "    \n",
    "    for row in rows:\n",
    "        cells = wait_for_element(source=row, search_by=By.CLASS_NAME, target=\"rt-td\")\n",
    "        row_values = [cell.text for cell in cells]\n",
    "        \n",
    "        values_map = list(zip(headers, row_values))\n",
    "        print(values_map)\n",
    "        map_dict = parse_record(values_map)\n",
    "        \n",
    "        orderered_data_list = [\n",
    "            map_dict[\"Team\"],\n",
    "            map_dict[\"game_date\"],\n",
    "            map_dict[\"home_game\"],\n",
    "            map_dict[\"opponent\"],\n",
    "            map_dict[\"W\"],\n",
    "            map_dict[\"L\"],\n",
    "            map_dict[\"T\"],\n",
    "            map_dict[\"OT\"],\n",
    "            map_dict[\"P\"],\n",
    "            map_dict[\"P%\"],\n",
    "            map_dict[\"RW\"],\n",
    "            map_dict[\"ROW\"],\n",
    "            map_dict[\"S/O Win\"],\n",
    "            map_dict[\"GF\"],\n",
    "            map_dict[\"GA\"],\n",
    "            map_dict[\"PP%\"],\n",
    "            map_dict[\"PK%\"],\n",
    "            map_dict[\"Net PP%\"],\n",
    "            map_dict[\"Net PK%\"],\n",
    "            map_dict[\"Shots/GP\"],\n",
    "            map_dict[\"GA/GP\"],\n",
    "            map_dict[\"FOW%\"]\n",
    "        ]\n",
    "        \n",
    "        table_data.append(map_dict)\n",
    "            \n",
    "    return table_data"
   ]
  },
  {
   "cell_type": "code",
   "execution_count": 56,
   "id": "12a19725",
   "metadata": {},
   "outputs": [],
   "source": [
    "def scrape_page(url):\n",
    "    driver = open_driver()\n",
    "    table_data = download(url, driver)\n",
    "    close_driver(driver)\n",
    "    \n",
    "    # call batch upload function\n",
    "    \n",
    "    return table_data"
   ]
  },
  {
   "cell_type": "code",
   "execution_count": 57,
   "id": "3ee82f3e",
   "metadata": {},
   "outputs": [],
   "source": [
    "# TODO: batch update function"
   ]
  },
  {
   "cell_type": "code",
   "execution_count": 58,
   "id": "c0bae79e",
   "metadata": {},
   "outputs": [],
   "source": [
    "url = \"https://www.nhl.com/stats/teams?aggregate=0&reportType=game&seasonFrom=20212022&seasonTo=20212022&dateFromSeason&gameType=2&filter=gamesPlayed,gte,1&sort=points,wins&page=0&pageSize=100\""
   ]
  },
  {
   "cell_type": "code",
   "execution_count": 59,
   "id": "d4ba3efe",
   "metadata": {},
   "outputs": [
    {
     "name": "stdout",
     "output_type": "stream",
     "text": [
      "[('i', '1'), ('Team', 'New Jersey Devils'), ('Game', '2022/04/18@ VGK'), ('GP', '1'), ('W', '1'), ('L', '0'), ('T', '--'), ('OT', '0'), ('P', '2'), ('P%', '1.000'), ('RW', '1'), ('ROW', '1'), ('S/O Win', '0'), ('GF', '3'), ('GA', '2'), ('GF/GP', '3.00'), ('GA/GP', '2.00'), ('PP%', '0.0'), ('PK%', '100.0'), ('Net PP%', '0.0'), ('Net PK%', '100.0'), ('Shots/GP', '28.0'), ('SA/GP', '44.0'), ('FOW%', '49.2')]\n"
     ]
    },
    {
     "ename": "KeyError",
     "evalue": "'FOW'",
     "output_type": "error",
     "traceback": [
      "\u001b[0;31m---------------------------------------------------------------------------\u001b[0m",
      "\u001b[0;31mKeyError\u001b[0m                                  Traceback (most recent call last)",
      "Input \u001b[0;32mIn [59]\u001b[0m, in \u001b[0;36m<cell line: 1>\u001b[0;34m()\u001b[0m\n\u001b[0;32m----> 1\u001b[0m table_data \u001b[38;5;241m=\u001b[39m \u001b[43mscrape_page\u001b[49m\u001b[43m(\u001b[49m\u001b[43murl\u001b[49m\u001b[38;5;241;43m=\u001b[39;49m\u001b[43murl\u001b[49m\u001b[43m)\u001b[49m\n",
      "Input \u001b[0;32mIn [56]\u001b[0m, in \u001b[0;36mscrape_page\u001b[0;34m(url)\u001b[0m\n\u001b[1;32m      1\u001b[0m \u001b[38;5;28;01mdef\u001b[39;00m \u001b[38;5;21mscrape_page\u001b[39m(url):\n\u001b[1;32m      2\u001b[0m     driver \u001b[38;5;241m=\u001b[39m open_driver()\n\u001b[0;32m----> 3\u001b[0m     table_data \u001b[38;5;241m=\u001b[39m \u001b[43mdownload\u001b[49m\u001b[43m(\u001b[49m\u001b[43murl\u001b[49m\u001b[43m,\u001b[49m\u001b[43m \u001b[49m\u001b[43mdriver\u001b[49m\u001b[43m)\u001b[49m\n\u001b[1;32m      4\u001b[0m     close_driver(driver)\n\u001b[1;32m      6\u001b[0m     \u001b[38;5;66;03m# call batch upload function\u001b[39;00m\n",
      "Input \u001b[0;32mIn [53]\u001b[0m, in \u001b[0;36mdownload\u001b[0;34m(url, driver)\u001b[0m\n\u001b[1;32m      4\u001b[0m data_table \u001b[38;5;241m=\u001b[39m wait_for_element(source\u001b[38;5;241m=\u001b[39mroot_element, search_by\u001b[38;5;241m=\u001b[39mBy\u001b[38;5;241m.\u001b[39mCLASS_NAME, target\u001b[38;5;241m=\u001b[39m\u001b[38;5;124m\"\u001b[39m\u001b[38;5;124mrt-table\u001b[39m\u001b[38;5;124m\"\u001b[39m, unique_element\u001b[38;5;241m=\u001b[39m\u001b[38;5;28;01mTrue\u001b[39;00m)\n\u001b[1;32m      6\u001b[0m table_headers \u001b[38;5;241m=\u001b[39m get_table_columns(data_table)\n\u001b[0;32m----> 7\u001b[0m table_data \u001b[38;5;241m=\u001b[39m \u001b[43mget_table_rows\u001b[49m\u001b[43m(\u001b[49m\u001b[43mdata_table\u001b[49m\u001b[43m,\u001b[49m\u001b[43m \u001b[49m\u001b[43mtable_headers\u001b[49m\u001b[43m)\u001b[49m\n\u001b[1;32m      9\u001b[0m \u001b[38;5;28;01mreturn\u001b[39;00m table_data\n",
      "Input \u001b[0;32mIn [55]\u001b[0m, in \u001b[0;36mget_table_rows\u001b[0;34m(source, headers)\u001b[0m\n\u001b[1;32m     11\u001b[0m     \u001b[38;5;28mprint\u001b[39m(values_map)\n\u001b[1;32m     12\u001b[0m     map_dict \u001b[38;5;241m=\u001b[39m parse_record(values_map)\n\u001b[1;32m     14\u001b[0m     orderered_data_list \u001b[38;5;241m=\u001b[39m [\n\u001b[1;32m     15\u001b[0m         map_dict[\u001b[38;5;124m\"\u001b[39m\u001b[38;5;124mTeam\u001b[39m\u001b[38;5;124m\"\u001b[39m],\n\u001b[1;32m     16\u001b[0m         map_dict[\u001b[38;5;124m\"\u001b[39m\u001b[38;5;124mgame_date\u001b[39m\u001b[38;5;124m\"\u001b[39m],\n\u001b[1;32m     17\u001b[0m         map_dict[\u001b[38;5;124m\"\u001b[39m\u001b[38;5;124mhome_game\u001b[39m\u001b[38;5;124m\"\u001b[39m],\n\u001b[1;32m     18\u001b[0m         map_dict[\u001b[38;5;124m\"\u001b[39m\u001b[38;5;124mopponent\u001b[39m\u001b[38;5;124m\"\u001b[39m],\n\u001b[1;32m     19\u001b[0m         map_dict[\u001b[38;5;124m\"\u001b[39m\u001b[38;5;124mW\u001b[39m\u001b[38;5;124m\"\u001b[39m],\n\u001b[1;32m     20\u001b[0m         map_dict[\u001b[38;5;124m\"\u001b[39m\u001b[38;5;124mL\u001b[39m\u001b[38;5;124m\"\u001b[39m],\n\u001b[1;32m     21\u001b[0m         map_dict[\u001b[38;5;124m\"\u001b[39m\u001b[38;5;124mT\u001b[39m\u001b[38;5;124m\"\u001b[39m],\n\u001b[1;32m     22\u001b[0m         map_dict[\u001b[38;5;124m\"\u001b[39m\u001b[38;5;124mOT\u001b[39m\u001b[38;5;124m\"\u001b[39m],\n\u001b[1;32m     23\u001b[0m         map_dict[\u001b[38;5;124m\"\u001b[39m\u001b[38;5;124mP\u001b[39m\u001b[38;5;124m\"\u001b[39m],\n\u001b[1;32m     24\u001b[0m         map_dict[\u001b[38;5;124m\"\u001b[39m\u001b[38;5;124mP\u001b[39m\u001b[38;5;124m%\u001b[39m\u001b[38;5;124m\"\u001b[39m],\n\u001b[1;32m     25\u001b[0m         map_dict[\u001b[38;5;124m\"\u001b[39m\u001b[38;5;124mRW\u001b[39m\u001b[38;5;124m\"\u001b[39m],\n\u001b[1;32m     26\u001b[0m         map_dict[\u001b[38;5;124m\"\u001b[39m\u001b[38;5;124mROW\u001b[39m\u001b[38;5;124m\"\u001b[39m],\n\u001b[1;32m     27\u001b[0m         map_dict[\u001b[38;5;124m\"\u001b[39m\u001b[38;5;124mS/O Win\u001b[39m\u001b[38;5;124m\"\u001b[39m],\n\u001b[1;32m     28\u001b[0m         map_dict[\u001b[38;5;124m\"\u001b[39m\u001b[38;5;124mGF\u001b[39m\u001b[38;5;124m\"\u001b[39m],\n\u001b[1;32m     29\u001b[0m         map_dict[\u001b[38;5;124m\"\u001b[39m\u001b[38;5;124mGA\u001b[39m\u001b[38;5;124m\"\u001b[39m],\n\u001b[1;32m     30\u001b[0m         map_dict[\u001b[38;5;124m\"\u001b[39m\u001b[38;5;124mPP\u001b[39m\u001b[38;5;124m%\u001b[39m\u001b[38;5;124m\"\u001b[39m],\n\u001b[1;32m     31\u001b[0m         map_dict[\u001b[38;5;124m\"\u001b[39m\u001b[38;5;124mPK\u001b[39m\u001b[38;5;124m%\u001b[39m\u001b[38;5;124m\"\u001b[39m],\n\u001b[1;32m     32\u001b[0m         map_dict[\u001b[38;5;124m\"\u001b[39m\u001b[38;5;124mNet PP\u001b[39m\u001b[38;5;124m%\u001b[39m\u001b[38;5;124m\"\u001b[39m],\n\u001b[1;32m     33\u001b[0m         map_dict[\u001b[38;5;124m\"\u001b[39m\u001b[38;5;124mNet PK\u001b[39m\u001b[38;5;124m%\u001b[39m\u001b[38;5;124m\"\u001b[39m],\n\u001b[1;32m     34\u001b[0m         map_dict[\u001b[38;5;124m\"\u001b[39m\u001b[38;5;124mShots/GP\u001b[39m\u001b[38;5;124m\"\u001b[39m],\n\u001b[1;32m     35\u001b[0m         map_dict[\u001b[38;5;124m\"\u001b[39m\u001b[38;5;124mGA/GP\u001b[39m\u001b[38;5;124m\"\u001b[39m],\n\u001b[0;32m---> 36\u001b[0m         \u001b[43mmap_dict\u001b[49m\u001b[43m[\u001b[49m\u001b[38;5;124;43m\"\u001b[39;49m\u001b[38;5;124;43mFOW\u001b[39;49m\u001b[38;5;124;43m\"\u001b[39;49m\u001b[43m]\u001b[49m\n\u001b[1;32m     37\u001b[0m     ]\n\u001b[1;32m     39\u001b[0m     table_data\u001b[38;5;241m.\u001b[39mappend(map_dict)\n\u001b[1;32m     41\u001b[0m \u001b[38;5;28;01mreturn\u001b[39;00m table_data\n",
      "\u001b[0;31mKeyError\u001b[0m: 'FOW'"
     ]
    }
   ],
   "source": [
    "table_data = scrape_page(url=url)"
   ]
  },
  {
   "cell_type": "code",
   "execution_count": null,
   "id": "d9cd00a7",
   "metadata": {},
   "outputs": [],
   "source": [
    "table_data"
   ]
  },
  {
   "cell_type": "code",
   "execution_count": null,
   "id": "3b684b3d",
   "metadata": {},
   "outputs": [],
   "source": []
  }
 ],
 "metadata": {
  "kernelspec": {
   "display_name": "Python 3 (ipykernel)",
   "language": "python",
   "name": "python3"
  },
  "language_info": {
   "codemirror_mode": {
    "name": "ipython",
    "version": 3
   },
   "file_extension": ".py",
   "mimetype": "text/x-python",
   "name": "python",
   "nbconvert_exporter": "python",
   "pygments_lexer": "ipython3",
   "version": "3.9.12"
  }
 },
 "nbformat": 4,
 "nbformat_minor": 5
}
