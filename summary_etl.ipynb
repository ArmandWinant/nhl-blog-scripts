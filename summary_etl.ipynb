{
 "cells": [
  {
   "cell_type": "code",
   "execution_count": 1,
   "id": "a0509705",
   "metadata": {},
   "outputs": [],
   "source": [
    "%load_ext autoreload\n",
    "%autoreload 2"
   ]
  },
  {
   "cell_type": "code",
   "execution_count": 2,
   "id": "52844476",
   "metadata": {},
   "outputs": [],
   "source": [
    "import pandas as pd\n",
    "from extract import open_driver, close_driver, wait_for_element\n",
    "from transforms import parse_record, parse_game_date\n",
    "from selenium.webdriver.common.by import By\n",
    "from DML import db_connect, close_db_connect\n",
    "from sql_queries import summary_table_insert\n",
    "from psycopg2.extras import execute_batch"
   ]
  },
  {
   "cell_type": "code",
   "execution_count": 3,
   "id": "6fc7fd10",
   "metadata": {},
   "outputs": [],
   "source": [
    "def download(url, driver):\n",
    "    driver.get(url)\n",
    "    root_element = wait_for_element(source=driver, search_by=By.ID, target=\"root\", unique_element=True)\n",
    "    data_table = wait_for_element(source=root_element, search_by=By.CLASS_NAME, target=\"rt-table\", unique_element=True)\n",
    "    \n",
    "    page_jump = wait_for_element(source=root_element, search_by=By.CLASS_NAME, target=\"-pageJump\", unique_element=True)\n",
    "    page_number = wait_for_element(source=root_element, search_by=By.CLASS_NAME, target=\"-totalPages\", unique_element=True)\n",
    "    \n",
    "    table_headers = get_table_columns(data_table)\n",
    "    table_data = get_table_rows(data_table, table_headers)\n",
    "    \n",
    "    return table_data"
   ]
  },
  {
   "cell_type": "code",
   "execution_count": 4,
   "id": "f78b91be",
   "metadata": {},
   "outputs": [],
   "source": [
    "def get_data_table(url):\n",
    "    driver.get(url)\n",
    "    root_element = wait_for_element(source=driver, search_by=By.ID, target=\"root\", unique_element=True)\n",
    "    data_table = wait_for_element(source=root_element, search_by=By.CLASS_NAME, target=\"rt-table\", unique_element=True)\n",
    "    \n",
    "    return data_table"
   ]
  },
  {
   "cell_type": "code",
   "execution_count": 5,
   "id": "7bc231be",
   "metadata": {},
   "outputs": [],
   "source": [
    "def get_table_columns(table_element):\n",
    "    header_container = wait_for_element(source=table_element, search_by=By.CLASS_NAME, target=\"tableHeaderDiv\", unique_element=True)\n",
    "    header_elements = wait_for_element(source=header_container, search_by=By.CLASS_NAME, target=\"rt-th\")\n",
    "    header_names = [header.text for header in header_elements]\n",
    "    \n",
    "    return header_names"
   ]
  },
  {
   "cell_type": "code",
   "execution_count": 6,
   "id": "b8d892a9",
   "metadata": {},
   "outputs": [],
   "source": [
    "def get_table_rows(table_element):\n",
    "    table_rows = wait_for_element(source=table_element, search_by=By.CLASS_NAME, target=\"rt-tbody\", unique_element=True)\n",
    "    rows = wait_for_element(source=table_rows, search_by=By.CLASS_NAME, target=\"rt-tr\")\n",
    "    \n",
    "    return rows"
   ]
  },
  {
   "cell_type": "code",
   "execution_count": 7,
   "id": "bc6e5707",
   "metadata": {},
   "outputs": [],
   "source": [
    "# def get_table_rows(source, headers):\n",
    "#     table_rows = wait_for_element(source=source, search_by=By.CLASS_NAME, target=\"rt-tbody\", unique_element=True)\n",
    "#     rows = wait_for_element(source=table_rows, search_by=By.CLASS_NAME, target=\"rt-tr\")\n",
    "#     table_data = []\n",
    "    \n",
    "#     for row in rows:\n",
    "#         cells = wait_for_element(source=row, search_by=By.CLASS_NAME, target=\"rt-td\")\n",
    "#         row_values = [cell.text for cell in cells]\n",
    "        \n",
    "#         values_map = list(zip(headers, row_values))\n",
    "#         map_dict = parse_record(values_map)\n",
    "        \n",
    "#         ordered_data_list = [\n",
    "#             map_dict[\"Team\"],\n",
    "#             \"2021/22\",\n",
    "#             map_dict[\"game_date\"],\n",
    "#             map_dict[\"home_game\"],\n",
    "#             map_dict[\"opponent\"],\n",
    "#             map_dict[\"W\"],\n",
    "#             map_dict[\"L\"],\n",
    "#             map_dict[\"T\"],\n",
    "#             map_dict[\"OT\"],\n",
    "#             map_dict[\"P\"],\n",
    "#             map_dict[\"P%\"],\n",
    "#             map_dict[\"RW\"],\n",
    "#             map_dict[\"ROW\"],\n",
    "#             map_dict[\"S/O Win\"],\n",
    "#             map_dict[\"GF\"],\n",
    "#             map_dict[\"GA\"],\n",
    "#             map_dict[\"PP%\"],\n",
    "#             map_dict[\"PK%\"],\n",
    "#             map_dict[\"Net PP%\"],\n",
    "#             map_dict[\"Net PK%\"],\n",
    "#             map_dict[\"Shots/GP\"],\n",
    "#             map_dict[\"GA/GP\"],\n",
    "#             map_dict[\"FOW%\"]\n",
    "#         ]\n",
    "        \n",
    "#         table_data.append(ordered_data_list)\n",
    "        \n",
    "#     return table_data"
   ]
  },
  {
   "cell_type": "code",
   "execution_count": 8,
   "id": "12a19725",
   "metadata": {},
   "outputs": [],
   "source": [
    "def scrape_page(url):\n",
    "    driver = open_driver()\n",
    "    table_data = download(url, driver)\n",
    "    close_driver(driver)\n",
    "    \n",
    "    # call batch upload function\n",
    "    conn, cur = db_connect()\n",
    "    execute_batch(cur, summary_table_insert, table_data)\n",
    "    close_db_connect(conn, cur)"
   ]
  },
  {
   "cell_type": "code",
   "execution_count": 9,
   "id": "c0bae79e",
   "metadata": {},
   "outputs": [],
   "source": [
    "url = \"https://www.nhl.com/stats/teams?aggregate=0&reportType=game&seasonFrom=20212022&seasonTo=20212022&dateFromSeason&gameType=2&filter=gamesPlayed,gte,1&sort=points,wins&page=0&pageSize=100\""
   ]
  },
  {
   "cell_type": "code",
   "execution_count": 10,
   "id": "d4ba3efe",
   "metadata": {},
   "outputs": [
    {
     "ename": "AttributeError",
     "evalue": "'list' object has no attribute 'find_elements'",
     "output_type": "error",
     "traceback": [
      "\u001b[0;31m---------------------------------------------------------------------------\u001b[0m",
      "\u001b[0;31mAttributeError\u001b[0m                            Traceback (most recent call last)",
      "Input \u001b[0;32mIn [10]\u001b[0m, in \u001b[0;36m<cell line: 1>\u001b[0;34m()\u001b[0m\n\u001b[0;32m----> 1\u001b[0m \u001b[43mscrape_page\u001b[49m\u001b[43m(\u001b[49m\u001b[43murl\u001b[49m\u001b[38;5;241;43m=\u001b[39;49m\u001b[43murl\u001b[49m\u001b[43m)\u001b[49m\n",
      "Input \u001b[0;32mIn [8]\u001b[0m, in \u001b[0;36mscrape_page\u001b[0;34m(url)\u001b[0m\n\u001b[1;32m      1\u001b[0m \u001b[38;5;28;01mdef\u001b[39;00m \u001b[38;5;21mscrape_page\u001b[39m(url):\n\u001b[1;32m      2\u001b[0m     driver \u001b[38;5;241m=\u001b[39m open_driver()\n\u001b[0;32m----> 3\u001b[0m     table_data \u001b[38;5;241m=\u001b[39m \u001b[43mdownload\u001b[49m\u001b[43m(\u001b[49m\u001b[43murl\u001b[49m\u001b[43m,\u001b[49m\u001b[43m \u001b[49m\u001b[43mdriver\u001b[49m\u001b[43m)\u001b[49m\n\u001b[1;32m      4\u001b[0m     close_driver(driver)\n\u001b[1;32m      6\u001b[0m     \u001b[38;5;66;03m# call batch upload function\u001b[39;00m\n",
      "Input \u001b[0;32mIn [3]\u001b[0m, in \u001b[0;36mdownload\u001b[0;34m(url, driver)\u001b[0m\n\u001b[1;32m      6\u001b[0m page_jump \u001b[38;5;241m=\u001b[39m wait_for_element(source\u001b[38;5;241m=\u001b[39mroot_element, search_by\u001b[38;5;241m=\u001b[39mBy\u001b[38;5;241m.\u001b[39mCLASS_NAME, target\u001b[38;5;241m=\u001b[39m\u001b[38;5;124m\"\u001b[39m\u001b[38;5;124m-pageJump\u001b[39m\u001b[38;5;124m\"\u001b[39m, unique_element\u001b[38;5;241m=\u001b[39m\u001b[38;5;28;01mTrue\u001b[39;00m)\n\u001b[1;32m      7\u001b[0m page_number \u001b[38;5;241m=\u001b[39m wait_for_element(source\u001b[38;5;241m=\u001b[39mroot_element, search_by\u001b[38;5;241m=\u001b[39mBy\u001b[38;5;241m.\u001b[39mCLASS_NAME, target\u001b[38;5;241m=\u001b[39m\u001b[38;5;124m\"\u001b[39m\u001b[38;5;124m-totalPages\u001b[39m\u001b[38;5;124m\"\u001b[39m, unique_element\u001b[38;5;241m=\u001b[39m\u001b[38;5;28;01mTrue\u001b[39;00m)\n\u001b[0;32m----> 9\u001b[0m table_headers \u001b[38;5;241m=\u001b[39m \u001b[43mget_table_columns\u001b[49m\u001b[43m(\u001b[49m\u001b[43mdata_table\u001b[49m\u001b[43m)\u001b[49m\n\u001b[1;32m     10\u001b[0m table_data \u001b[38;5;241m=\u001b[39m get_table_rows(data_table, table_headers)\n\u001b[1;32m     12\u001b[0m \u001b[38;5;28;01mreturn\u001b[39;00m table_data\n",
      "Input \u001b[0;32mIn [5]\u001b[0m, in \u001b[0;36mget_table_columns\u001b[0;34m(table_element)\u001b[0m\n\u001b[1;32m      1\u001b[0m \u001b[38;5;28;01mdef\u001b[39;00m \u001b[38;5;21mget_table_columns\u001b[39m(table_element):\n\u001b[1;32m      2\u001b[0m     header_container \u001b[38;5;241m=\u001b[39m wait_for_element(source\u001b[38;5;241m=\u001b[39mtable_element, search_by\u001b[38;5;241m=\u001b[39mBy\u001b[38;5;241m.\u001b[39mCLASS_NAME, target\u001b[38;5;241m=\u001b[39m\u001b[38;5;124m\"\u001b[39m\u001b[38;5;124mtableHeaderDiv\u001b[39m\u001b[38;5;124m\"\u001b[39m, unique_element\u001b[38;5;241m=\u001b[39m\u001b[38;5;28;01mTrue\u001b[39;00m)\n\u001b[0;32m----> 3\u001b[0m     header_elements \u001b[38;5;241m=\u001b[39m \u001b[43mwait_for_element\u001b[49m\u001b[43m(\u001b[49m\u001b[43msource\u001b[49m\u001b[38;5;241;43m=\u001b[39;49m\u001b[43mheader_container\u001b[49m\u001b[43m,\u001b[49m\u001b[43m \u001b[49m\u001b[43msearch_by\u001b[49m\u001b[38;5;241;43m=\u001b[39;49m\u001b[43mBy\u001b[49m\u001b[38;5;241;43m.\u001b[39;49m\u001b[43mCLASS_NAME\u001b[49m\u001b[43m,\u001b[49m\u001b[43m \u001b[49m\u001b[43mtarget\u001b[49m\u001b[38;5;241;43m=\u001b[39;49m\u001b[38;5;124;43m\"\u001b[39;49m\u001b[38;5;124;43mrt-th\u001b[39;49m\u001b[38;5;124;43m\"\u001b[39;49m\u001b[43m)\u001b[49m\n\u001b[1;32m      4\u001b[0m     header_names \u001b[38;5;241m=\u001b[39m [header\u001b[38;5;241m.\u001b[39mtext \u001b[38;5;28;01mfor\u001b[39;00m header \u001b[38;5;129;01min\u001b[39;00m header_elements]\n\u001b[1;32m      6\u001b[0m     \u001b[38;5;28;01mreturn\u001b[39;00m header_names\n",
      "File \u001b[0;32m~/Desktop/Projects/nhl-blog-scripts/extract.py:45\u001b[0m, in \u001b[0;36mwait_for_element\u001b[0;34m(source, search_by, target, timeout, unique_element)\u001b[0m\n\u001b[1;32m     43\u001b[0m         elements \u001b[38;5;241m=\u001b[39m WebDriverWait(source, timeout\u001b[38;5;241m=\u001b[39mtimeout)\u001b[38;5;241m.\u001b[39muntil(\u001b[38;5;28;01mlambda\u001b[39;00m d: d\u001b[38;5;241m.\u001b[39mfind_element(search_by, target))\n\u001b[1;32m     44\u001b[0m     \u001b[38;5;28;01melse\u001b[39;00m:\n\u001b[0;32m---> 45\u001b[0m         elements \u001b[38;5;241m=\u001b[39m \u001b[43mWebDriverWait\u001b[49m\u001b[43m(\u001b[49m\u001b[43msource\u001b[49m\u001b[43m,\u001b[49m\u001b[43m \u001b[49m\u001b[43mtimeout\u001b[49m\u001b[38;5;241;43m=\u001b[39;49m\u001b[43mtimeout\u001b[49m\u001b[43m)\u001b[49m\u001b[38;5;241;43m.\u001b[39;49m\u001b[43muntil\u001b[49m\u001b[43m(\u001b[49m\u001b[38;5;28;43;01mlambda\u001b[39;49;00m\u001b[43m \u001b[49m\u001b[43md\u001b[49m\u001b[43m:\u001b[49m\u001b[43m \u001b[49m\u001b[43md\u001b[49m\u001b[38;5;241;43m.\u001b[39;49m\u001b[43mfind_elements\u001b[49m\u001b[43m(\u001b[49m\u001b[43msearch_by\u001b[49m\u001b[43m,\u001b[49m\u001b[43m \u001b[49m\u001b[43mtarget\u001b[49m\u001b[43m)\u001b[49m\u001b[43m)\u001b[49m\n\u001b[1;32m     47\u001b[0m \u001b[38;5;28;01mexcept\u001b[39;00m TimeoutException:\n\u001b[1;32m     48\u001b[0m     elements \u001b[38;5;241m=\u001b[39m []\n",
      "File \u001b[0;32m~/Desktop/Projects/nhl-blog-scripts/env/lib/python3.9/site-packages/selenium/webdriver/support/wait.py:78\u001b[0m, in \u001b[0;36mWebDriverWait.until\u001b[0;34m(self, method, message)\u001b[0m\n\u001b[1;32m     76\u001b[0m \u001b[38;5;28;01mwhile\u001b[39;00m \u001b[38;5;28;01mTrue\u001b[39;00m:\n\u001b[1;32m     77\u001b[0m     \u001b[38;5;28;01mtry\u001b[39;00m:\n\u001b[0;32m---> 78\u001b[0m         value \u001b[38;5;241m=\u001b[39m \u001b[43mmethod\u001b[49m\u001b[43m(\u001b[49m\u001b[38;5;28;43mself\u001b[39;49m\u001b[38;5;241;43m.\u001b[39;49m\u001b[43m_driver\u001b[49m\u001b[43m)\u001b[49m\n\u001b[1;32m     79\u001b[0m         \u001b[38;5;28;01mif\u001b[39;00m value:\n\u001b[1;32m     80\u001b[0m             \u001b[38;5;28;01mreturn\u001b[39;00m value\n",
      "File \u001b[0;32m~/Desktop/Projects/nhl-blog-scripts/extract.py:45\u001b[0m, in \u001b[0;36mwait_for_element.<locals>.<lambda>\u001b[0;34m(d)\u001b[0m\n\u001b[1;32m     43\u001b[0m         elements \u001b[38;5;241m=\u001b[39m WebDriverWait(source, timeout\u001b[38;5;241m=\u001b[39mtimeout)\u001b[38;5;241m.\u001b[39muntil(\u001b[38;5;28;01mlambda\u001b[39;00m d: d\u001b[38;5;241m.\u001b[39mfind_element(search_by, target))\n\u001b[1;32m     44\u001b[0m     \u001b[38;5;28;01melse\u001b[39;00m:\n\u001b[0;32m---> 45\u001b[0m         elements \u001b[38;5;241m=\u001b[39m WebDriverWait(source, timeout\u001b[38;5;241m=\u001b[39mtimeout)\u001b[38;5;241m.\u001b[39muntil(\u001b[38;5;28;01mlambda\u001b[39;00m d: \u001b[43md\u001b[49m\u001b[38;5;241;43m.\u001b[39;49m\u001b[43mfind_elements\u001b[49m(search_by, target))\n\u001b[1;32m     47\u001b[0m \u001b[38;5;28;01mexcept\u001b[39;00m TimeoutException:\n\u001b[1;32m     48\u001b[0m     elements \u001b[38;5;241m=\u001b[39m []\n",
      "\u001b[0;31mAttributeError\u001b[0m: 'list' object has no attribute 'find_elements'"
     ]
    }
   ],
   "source": [
    "scrape_page(url=url)"
   ]
  },
  {
   "cell_type": "code",
   "execution_count": null,
   "id": "d9cd00a7",
   "metadata": {},
   "outputs": [],
   "source": [
    "class Scraper:\n",
    "    def __init__(self):\n",
    "        self.conn, self.cur = db_connect()\n",
    "    \n",
    "    def close_db(self):\n",
    "        close_db_connect(self.conn, self.cur)"
   ]
  },
  {
   "cell_type": "code",
   "execution_count": null,
   "id": "c413c7ca",
   "metadata": {},
   "outputs": [],
   "source": [
    "scraper = Scraper()"
   ]
  },
  {
   "cell_type": "code",
   "execution_count": null,
   "id": "3d2ac812",
   "metadata": {},
   "outputs": [],
   "source": [
    "scraper.close_db()"
   ]
  },
  {
   "cell_type": "code",
   "execution_count": null,
   "id": "4ccdaf2b",
   "metadata": {},
   "outputs": [],
   "source": [
    "test_dict = {'a': 1, 'b': 2, 'c': 3}"
   ]
  },
  {
   "cell_type": "code",
   "execution_count": null,
   "id": "633ff5d7",
   "metadata": {},
   "outputs": [],
   "source": [
    "test_dict.keys()"
   ]
  },
  {
   "cell_type": "code",
   "execution_count": null,
   "id": "61295d07",
   "metadata": {},
   "outputs": [],
   "source": [
    "test_dict.values()"
   ]
  },
  {
   "cell_type": "code",
   "execution_count": null,
   "id": "df0a0a23",
   "metadata": {},
   "outputs": [],
   "source": []
  }
 ],
 "metadata": {
  "kernelspec": {
   "display_name": "Python 3 (ipykernel)",
   "language": "python",
   "name": "python3"
  },
  "language_info": {
   "codemirror_mode": {
    "name": "ipython",
    "version": 3
   },
   "file_extension": ".py",
   "mimetype": "text/x-python",
   "name": "python",
   "nbconvert_exporter": "python",
   "pygments_lexer": "ipython3",
   "version": "3.9.12"
  }
 },
 "nbformat": 4,
 "nbformat_minor": 5
}
