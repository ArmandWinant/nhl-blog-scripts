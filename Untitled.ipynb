{
 "cells": [
  {
   "cell_type": "code",
   "execution_count": 1,
   "id": "4da953b4",
   "metadata": {},
   "outputs": [],
   "source": [
    "from DDL import reinitialise_db\n",
    "from teams_etl import populate_teams_table"
   ]
  },
  {
   "cell_type": "code",
   "execution_count": 2,
   "id": "939a5c5b",
   "metadata": {},
   "outputs": [
    {
     "name": "stdout",
     "output_type": "stream",
     "text": [
      "Dropping table:  teams\n",
      "Dropping table:  summary\n",
      "Creating table:  teams\n",
      "Creating table:  summary\n"
     ]
    }
   ],
   "source": [
    "reinitialise_db()"
   ]
  },
  {
   "cell_type": "code",
   "execution_count": 3,
   "id": "43adf152",
   "metadata": {},
   "outputs": [],
   "source": [
    "populate_teams_table()"
   ]
  },
  {
   "cell_type": "code",
   "execution_count": null,
   "id": "ba2e585c",
   "metadata": {},
   "outputs": [],
   "source": []
  }
 ],
 "metadata": {
  "kernelspec": {
   "display_name": "Python 3 (ipykernel)",
   "language": "python",
   "name": "python3"
  },
  "language_info": {
   "codemirror_mode": {
    "name": "ipython",
    "version": 3
   },
   "file_extension": ".py",
   "mimetype": "text/x-python",
   "name": "python",
   "nbconvert_exporter": "python",
   "pygments_lexer": "ipython3",
   "version": "3.9.12"
  }
 },
 "nbformat": 4,
 "nbformat_minor": 5
}
