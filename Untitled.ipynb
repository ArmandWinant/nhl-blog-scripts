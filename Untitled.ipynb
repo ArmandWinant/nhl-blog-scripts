{
 "cells": [
  {
   "cell_type": "code",
   "execution_count": 1,
   "id": "26ba6443",
   "metadata": {},
   "outputs": [],
   "source": [
    "%load_ext autoreload\n",
    "%autoreload 2"
   ]
  },
  {
   "cell_type": "code",
   "execution_count": 8,
   "id": "6c427142",
   "metadata": {},
   "outputs": [],
   "source": [
    "from sql_queries import create_table_queries, shot_attempts_table_drop\n",
    "import psycopg2\n",
    "from DML import db_connect, close_db_connect"
   ]
  },
  {
   "cell_type": "code",
   "execution_count": 10,
   "id": "1995b19a",
   "metadata": {},
   "outputs": [],
   "source": [
    "conn, cur = db_connect()\n",
    "cur.execute(create_table_queries['shot_attempts'])\n",
    "# cur.execute(shot_attempts_table_drop)\n",
    "close_db_connect(conn, cur)"
   ]
  },
  {
   "cell_type": "code",
   "execution_count": null,
   "id": "0be4bd2a",
   "metadata": {},
   "outputs": [],
   "source": []
  }
 ],
 "metadata": {
  "kernelspec": {
   "display_name": "Python 3 (ipykernel)",
   "language": "python",
   "name": "python3"
  },
  "language_info": {
   "codemirror_mode": {
    "name": "ipython",
    "version": 3
   },
   "file_extension": ".py",
   "mimetype": "text/x-python",
   "name": "python",
   "nbconvert_exporter": "python",
   "pygments_lexer": "ipython3",
   "version": "3.9.12"
  }
 },
 "nbformat": 4,
 "nbformat_minor": 5
}
