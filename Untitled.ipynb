{
 "cells": [
  {
   "cell_type": "code",
   "execution_count": 30,
   "id": "cad9e511",
   "metadata": {},
   "outputs": [],
   "source": [
    "import requests\n",
    "import bs4\n",
    "import urllib.request\n",
    "from urllib.error import URLError, HTTPError, ContentTooShortError"
   ]
  },
  {
   "cell_type": "code",
   "execution_count": 33,
   "id": "1179f8de",
   "metadata": {},
   "outputs": [],
   "source": [
    "def download(url, num_retries=2):\n",
    "    print(\"Downloading...\")\n",
    "    try:\n",
    "        html = urllib.request.urlopen(url).read()\n",
    "    except (URLError, HTTPError, ContentTooShortError) as e:\n",
    "        print(\"Download error: \", e.reason)\n",
    "        html = None\n",
    "        if num_retries > 0:\n",
    "            if hasattr(e, 'code') and 500 <= e.code < 600:\n",
    "                # recursively retry 5xx HTTP errors \n",
    "                download(url, num_retries=num_retries - 1)\n",
    "    return html"
   ]
  },
  {
   "cell_type": "code",
   "execution_count": 36,
   "id": "d49535d7",
   "metadata": {},
   "outputs": [
    {
     "name": "stdout",
     "output_type": "stream",
     "text": [
      "Downloading...\n"
     ]
    },
    {
     "data": {
      "text/plain": [
       "b'200 OK'"
      ]
     },
     "execution_count": 36,
     "metadata": {},
     "output_type": "execute_result"
    }
   ],
   "source": [
    "download('http://httpstat.us/200')"
   ]
  },
  {
   "cell_type": "code",
   "execution_count": null,
   "id": "21e89f43",
   "metadata": {},
   "outputs": [],
   "source": []
  },
  {
   "cell_type": "code",
   "execution_count": null,
   "id": "a3fab8ac",
   "metadata": {},
   "outputs": [],
   "source": []
  },
  {
   "cell_type": "code",
   "execution_count": null,
   "id": "f455b5d3",
   "metadata": {},
   "outputs": [],
   "source": []
  },
  {
   "cell_type": "code",
   "execution_count": null,
   "id": "c4ae38a8",
   "metadata": {},
   "outputs": [],
   "source": []
  },
  {
   "cell_type": "code",
   "execution_count": 3,
   "id": "b99cafba",
   "metadata": {},
   "outputs": [],
   "source": [
    "url = \"https://stats.wnba.com/scores/08/27/2019\""
   ]
  },
  {
   "cell_type": "code",
   "execution_count": 4,
   "id": "8fc09480",
   "metadata": {},
   "outputs": [],
   "source": [
    "r = requests.get(url)"
   ]
  },
  {
   "cell_type": "code",
   "execution_count": 7,
   "id": "4838ad3c",
   "metadata": {},
   "outputs": [],
   "source": [
    "html = r.text"
   ]
  },
  {
   "cell_type": "code",
   "execution_count": 10,
   "id": "38c8a522",
   "metadata": {},
   "outputs": [],
   "source": [
    "soup = bs4.BeautifulSoup(html, 'html.parser')\n",
    "# BeautifulSoup(page.text, 'html.parser')"
   ]
  },
  {
   "cell_type": "code",
   "execution_count": 13,
   "id": "a381a99d",
   "metadata": {},
   "outputs": [],
   "source": [
    "script_elems = soup.find_all('script')"
   ]
  },
  {
   "cell_type": "code",
   "execution_count": 27,
   "id": "0a6018cc",
   "metadata": {},
   "outputs": [
    {
     "name": "stdout",
     "output_type": "stream",
     "text": [
      "nbaStatsLineScore = [{\"GAME_DATE_EST\":\"2019-08-27T00:00:00\",\"GAME_SEQUENCE\":1,\"GAME_ID\":\"1021900175\",\"TEAM_ID\":1611661319,\"TEAM_ABBREVIATION\":\"LVA\",\"TEAM_CITY_NAME\":\"Las Vegas\",\"TEAM_NAME\":\"Aces\",\"TEAM_WINS_LOSSES\":\"19-12\",\"PTS_QTR1\":15,\"PTS_QTR2\":18,\"PTS_QTR3\":21,\"PTS_QTR4\":17,\"PTS_OT1\":0,\"PTS_OT2\":0,\"PTS_OT3\":0,\"PTS_OT4\":0,\"PTS_OT5\":0,\"PTS_OT6\":0,\"PTS_OT7\":0,\"PTS_OT8\":0,\"PTS_OT9\":0,\"PTS_OT10\":0,\"PTS\":71,\"FG_PCT\":0.338000000000000022648549702353193424642086029052734375,\"FT_PCT\":0.6919999999999999484856516573927365243434906005859375,\"FG3_PCT\":0.3569999999999999840127884453977458178997039794921875,\"AST\":20,\"REB\":37,\"TOV\":8},{\"GAME_DATE_EST\":\"2019-08-27T00:00:00\",\"GAME_SEQUENCE\":1,\"GAME_ID\":\"1021900175\",\"TEAM_ID\":1611661325,\"TEAM_ABBREVIATION\":\"IND\",\"TEAM_CITY_NAME\":\"Indiana\",\"TEAM_NAME\":\"Fever\",\"TEAM_WINS_LOSSES\":\"11-19\",\"PTS_QTR1\":29,\"PTS_QTR2\":24,\"PTS_QTR3\":21,\"PTS_QTR4\":12,\"PTS_OT1\":0,\"PTS_OT2\":0,\"PTS_OT3\":0,\"PTS_OT4\":0,\"PTS_OT5\":0,\"PTS_OT6\":0,\"PTS_OT7\":0,\"PTS_OT8\":0,\"PTS_OT9\":0,\"PTS_OT10\":0,\"PTS\":86,\"FG_PCT\":0.403000000000000024868995751603506505489349365234375,\"FT_PCT\":0.94699999999999995292654375589336268603801727294921875,\"FG3_PCT\":0.299999999999999988897769753748434595763683319091796875,\"AST\":23,\"REB\":44,\"TOV\":7},{\"GAME_DATE_EST\":\"2019-08-27T00:00:00\",\"GAME_SEQUENCE\":2,\"GAME_ID\":\"1021900176\",\"TEAM_ID\":1611661317,\"TEAM_ABBREVIATION\":\"PHO\",\"TEAM_CITY_NAME\":\"Phoenix\",\"TEAM_NAME\":\"Mercury\",\"TEAM_WINS_LOSSES\":\"14-15\",\"PTS_QTR1\":24,\"PTS_QTR2\":25,\"PTS_QTR3\":27,\"PTS_QTR4\":19,\"PTS_OT1\":0,\"PTS_OT2\":0,\"PTS_OT3\":0,\"PTS_OT4\":0,\"PTS_OT5\":0,\"PTS_OT6\":0,\"PTS_OT7\":0,\"PTS_OT8\":0,\"PTS_OT9\":0,\"PTS_OT10\":0,\"PTS\":95,\"FG_PCT\":0.5869999999999999662492200513952411711215972900390625,\"FT_PCT\":0.65000000000000002220446049250313080847263336181640625,\"FG3_PCT\":0.5,\"AST\":29,\"REB\":36,\"TOV\":12},{\"GAME_DATE_EST\":\"2019-08-27T00:00:00\",\"GAME_SEQUENCE\":2,\"GAME_ID\":\"1021900176\",\"TEAM_ID\":1611661313,\"TEAM_ABBREVIATION\":\"NYL\",\"TEAM_CITY_NAME\":\"New York\",\"TEAM_NAME\":\"Liberty\",\"TEAM_WINS_LOSSES\":\"9-21\",\"PTS_QTR1\":17,\"PTS_QTR2\":29,\"PTS_QTR3\":23,\"PTS_QTR4\":13,\"PTS_OT1\":0,\"PTS_OT2\":0,\"PTS_OT3\":0,\"PTS_OT4\":0,\"PTS_OT5\":0,\"PTS_OT6\":0,\"PTS_OT7\":0,\"PTS_OT8\":0,\"PTS_OT9\":0,\"PTS_OT10\":0,\"PTS\":82,\"FG_PCT\":0.465000000000000024424906541753443889319896697998046875,\"FT_PCT\":0.8890000000000000124344978758017532527446746826171875,\"FG3_PCT\":0.3810000000000000053290705182007513940334320068359375,\"AST\":19,\"REB\":25,\"TOV\":10},{\"GAME_DATE_EST\":\"2019-08-27T00:00:00\",\"GAME_SEQUENCE\":3,\"GAME_ID\":\"1021900177\",\"TEAM_ID\":1611661320,\"TEAM_ABBREVIATION\":\"LAS\",\"TEAM_CITY_NAME\":\"Los Angeles\",\"TEAM_NAME\":\"Sparks\",\"TEAM_WINS_LOSSES\":\"18-11\",\"PTS_QTR1\":22,\"PTS_QTR2\":15,\"PTS_QTR3\":10,\"PTS_QTR4\":19,\"PTS_OT1\":0,\"PTS_OT2\":0,\"PTS_OT3\":0,\"PTS_OT4\":0,\"PTS_OT5\":0,\"PTS_OT6\":0,\"PTS_OT7\":0,\"PTS_OT8\":0,\"PTS_OT9\":0,\"PTS_OT10\":0,\"PTS\":66,\"FG_PCT\":0.343000000000000027089441800853819586336612701416015625,\"FT_PCT\":0.77300000000000002042810365310288034379482269287109375,\"FG3_PCT\":0.1429999999999999882316359389733406715095043182373046875,\"AST\":12,\"REB\":33,\"TOV\":15},{\"GAME_DATE_EST\":\"2019-08-27T00:00:00\",\"GAME_SEQUENCE\":3,\"GAME_ID\":\"1021900177\",\"TEAM_ID\":1611661322,\"TEAM_ABBREVIATION\":\"WAS\",\"TEAM_CITY_NAME\":\"Washington\",\"TEAM_NAME\":\"Mystics\",\"TEAM_WINS_LOSSES\":\"22-8\",\"PTS_QTR1\":33,\"PTS_QTR2\":21,\"PTS_QTR3\":27,\"PTS_QTR4\":14,\"PTS_OT1\":0,\"PTS_OT2\":0,\"PTS_OT3\":0,\"PTS_OT4\":0,\"PTS_OT5\":0,\"PTS_OT6\":0,\"PTS_OT7\":0,\"PTS_OT8\":0,\"PTS_OT9\":0,\"PTS_OT10\":0,\"PTS\":95,\"FG_PCT\":0.47699999999999997957189634689711965620517730712890625,\"FT_PCT\":0.9170000000000000373034936274052597582340240478515625,\"FG3_PCT\":0.314000000000000001332267629550187848508358001708984375,\"AST\":22,\"REB\":33,\"TOV\":9},{\"GAME_DATE_EST\":\"2019-08-27T00:00:00\",\"GAME_SEQUENCE\":4,\"GAME_ID\":\"1021900178\",\"TEAM_ID\":1611661329,\"TEAM_ABBREVIATION\":\"CHI\",\"TEAM_CITY_NAME\":\"Chicago\",\"TEAM_NAME\":\"Sky\",\"TEAM_WINS_LOSSES\":\"18-12\",\"PTS_QTR1\":29,\"PTS_QTR2\":13,\"PTS_QTR3\":28,\"PTS_QTR4\":15,\"PTS_OT1\":0,\"PTS_OT2\":0,\"PTS_OT3\":0,\"PTS_OT4\":0,\"PTS_OT5\":0,\"PTS_OT6\":0,\"PTS_OT7\":0,\"PTS_OT8\":0,\"PTS_OT9\":0,\"PTS_OT10\":0,\"PTS\":85,\"FG_PCT\":0.431999999999999995115018691649311222136020660400390625,\"FT_PCT\":1,\"FG3_PCT\":0.3890000000000000124344978758017532527446746826171875,\"AST\":26,\"REB\":34,\"TOV\":16},{\"GAME_DATE_EST\":\"2019-08-27T00:00:00\",\"GAME_SEQUENCE\":4,\"GAME_ID\":\"1021900178\",\"TEAM_ID\":1611661324,\"TEAM_ABBREVIATION\":\"MIN\",\"TEAM_CITY_NAME\":\"Minnesota\",\"TEAM_NAME\":\"Lynx\",\"TEAM_WINS_LOSSES\":\"16-15\",\"PTS_QTR1\":30,\"PTS_QTR2\":21,\"PTS_QTR3\":17,\"PTS_QTR4\":25,\"PTS_OT1\":0,\"PTS_OT2\":0,\"PTS_OT3\":0,\"PTS_OT4\":0,\"PTS_OT5\":0,\"PTS_OT6\":0,\"PTS_OT7\":0,\"PTS_OT8\":0,\"PTS_OT9\":0,\"PTS_OT10\":0,\"PTS\":93,\"FG_PCT\":0.479999999999999982236431605997495353221893310546875,\"FT_PCT\":0.82399999999999995470290059529361315071582794189453125,\"FG3_PCT\":0.5380000000000000337507799486047588288784027099609375,\"AST\":22,\"REB\":39,\"TOV\":13},{\"GAME_DATE_EST\":\"2019-08-27T00:00:00\",\"GAME_SEQUENCE\":5,\"GAME_ID\":\"1021900179\",\"TEAM_ID\":1611661323,\"TEAM_ABBREVIATION\":\"CON\",\"TEAM_CITY_NAME\":\"Connecticut\",\"TEAM_NAME\":\"Sun\",\"TEAM_WINS_LOSSES\":\"21-9\",\"PTS_QTR1\":24,\"PTS_QTR2\":20,\"PTS_QTR3\":27,\"PTS_QTR4\":18,\"PTS_OT1\":0,\"PTS_OT2\":0,\"PTS_OT3\":0,\"PTS_OT4\":0,\"PTS_OT5\":0,\"PTS_OT6\":0,\"PTS_OT7\":0,\"PTS_OT8\":0,\"PTS_OT9\":0,\"PTS_OT10\":0,\"PTS\":89,\"FG_PCT\":0.52900000000000002575717417130363173782825469970703125,\"FT_PCT\":0.59999999999999997779553950749686919152736663818359375,\"FG3_PCT\":0.27300000000000002042810365310288034379482269287109375,\"AST\":15,\"REB\":43,\"TOV\":8},{\"GAME_DATE_EST\":\"2019-08-27T00:00:00\",\"GAME_SEQUENCE\":5,\"GAME_ID\":\"1021900179\",\"TEAM_ID\":1611661328,\"TEAM_ABBREVIATION\":\"SEA\",\"TEAM_CITY_NAME\":\"Seattle\",\"TEAM_NAME\":\"Storm\",\"TEAM_WINS_LOSSES\":\"15-15\",\"PTS_QTR1\":20,\"PTS_QTR2\":16,\"PTS_QTR3\":13,\"PTS_QTR4\":21,\"PTS_OT1\":0,\"PTS_OT2\":0,\"PTS_OT3\":0,\"PTS_OT4\":0,\"PTS_OT5\":0,\"PTS_OT6\":0,\"PTS_OT7\":0,\"PTS_OT8\":0,\"PTS_OT9\":0,\"PTS_OT10\":0,\"PTS\":70,\"FG_PCT\":0.403000000000000024868995751603506505489349365234375,\"FT_PCT\":0.4739999999999999769073610877967439591884613037109375,\"FG3_PCT\":0.5,\"AST\":19,\"REB\":30,\"TOV\":17}];\n"
     ]
    }
   ],
   "source": [
    "for elem in script_elems:\n",
    "    if elem.text.strip().startswith('window.nbaStatsGameInfo'):\n",
    "        game_metadata = elem.text.strip().split('window.')\n",
    "        games_info = game_metadata[1]\n",
    "        stat_line_scores = game_metadata[2]\n",
    "        \n",
    "        # extract elements between square brackets"
   ]
  },
  {
   "cell_type": "code",
   "execution_count": null,
   "id": "3bf581de",
   "metadata": {},
   "outputs": [],
   "source": []
  }
 ],
 "metadata": {
  "kernelspec": {
   "display_name": "Python 3 (ipykernel)",
   "language": "python",
   "name": "python3"
  },
  "language_info": {
   "codemirror_mode": {
    "name": "ipython",
    "version": 3
   },
   "file_extension": ".py",
   "mimetype": "text/x-python",
   "name": "python",
   "nbconvert_exporter": "python",
   "pygments_lexer": "ipython3",
   "version": "3.9.10"
  }
 },
 "nbformat": 4,
 "nbformat_minor": 5
}
